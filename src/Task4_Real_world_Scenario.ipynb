{
 "cells": [
  {
   "cell_type": "markdown",
   "id": "acb362e0",
   "metadata": {},
   "source": [
    "<span style=\"color:#000000; font-size:1.2em; text-align:right\">Data Scientist II Technical Challenge</span>\n",
    "\n",
    "<span style=\"color:#e01760; font-size:2em; align=center\">Task 4: Real-world Scenario</span>\n",
    "\n",
    "<font color=\"#6E6E6E\" align=\"center\">Cristina Sánchez Maíz | csmaiz@gmail.com | [LinkedIn](https://www.linkedin.com/in/csmaiz/) </font> "
   ]
  },
  {
   "cell_type": "markdown",
   "id": "538cd8bc",
   "metadata": {},
   "source": [
    "**Tasks:** \n",
    "\n",
    "Consider the following business problem:\n",
    "Your company wants to improve customer satisfaction by understanding the main topics and sentiments expressed in customer reviews. Your task is to:\n",
    "- Use topic modeling to identify the main topics in the customer reviews.\n",
    "- Summarize the findings and suggest actionable insights for business improvements. \n",
    "\n",
    "**Deliverables:**\n",
    "- Explanation of the topic modeling process.\n",
    "- Summary of the main topics identified.\n",
    "- Actionable insights based on the analysis."
   ]
  },
  {
   "cell_type": "markdown",
   "id": "fb5e602d",
   "metadata": {},
   "source": [
    "# Import libraries"
   ]
  },
  {
   "cell_type": "code",
   "execution_count": 90,
   "id": "b4ab908d",
   "metadata": {},
   "outputs": [],
   "source": [
    "# Libraries for NLP\n",
    "import re\n",
    "import matplotlib\n",
    "import matplotlib.pyplot as plt\n",
    "import numpy as np\n",
    "import pandas as pd\n",
    "import seaborn as sns\n",
    "from wordcloud import WordCloud\n",
    "from pandas.io.clipboards import to_clipboard\n",
    "\n",
    "\n",
    "from IPython.display import display, HTML\n",
    "\n",
    "\n",
    "import gensim\n",
    "from gensim import corpora\n",
    "from gensim.corpora import Dictionary\n",
    "from gensim.models import Phrases, LdaModel\n",
    "from gensim.utils import simple_preprocess\n",
    "\n",
    "import nltk\n",
    "from nltk.corpus import stopwords\n",
    "from nltk.stem import PorterStemmer, WordNetLemmatizer\n",
    "\n",
    "import pyLDAvis\n",
    "import pyLDAvis.gensim_models as gensimvis\n",
    "\n",
    "\n",
    "from sklearn.decomposition import LatentDirichletAllocation, NMF\n",
    "from sklearn.feature_extraction.text import TfidfVectorizer, CountVectorizer\n",
    "from sklearn.cluster import AgglomerativeClustering\n",
    "from scipy.cluster.hierarchy import dendrogram, linkage, fcluster, set_link_color_palette\n",
    "\n",
    "\n",
    "from transformers import AutoModel, AutoTokenizer\n",
    "from sentence_transformers import SentenceTransformer\n",
    "from transformers import DistilBertTokenizer, DistilBertModel\n",
    "import torch\n",
    "from transformers import AutoTokenizer, AutoModelForSequenceClassification"
   ]
  },
  {
   "cell_type": "code",
   "execution_count": 62,
   "id": "af77a990",
   "metadata": {},
   "outputs": [
    {
     "data": {
      "text/html": [
       "<style>:root { --jp-notebook-max-width: 100% !important; }</style>"
      ],
      "text/plain": [
       "<IPython.core.display.HTML object>"
      ]
     },
     "metadata": {},
     "output_type": "display_data"
    }
   ],
   "source": [
    "from IPython.display import display, HTML\n",
    "display(HTML(\"<style>:root { --jp-notebook-max-width: 100% !important; }</style>\"))\n",
    "from constants import NEGATIVE_LABEL,POSITIVE_LABEL, NEUTRAL_LABEL, PINK_RGB"
   ]
  },
  {
   "cell_type": "code",
   "execution_count": 63,
   "id": "eabb9a70",
   "metadata": {},
   "outputs": [
    {
     "data": {
      "text/html": [
       "<style>.container { max-width:100% !important; }</style>"
      ],
      "text/plain": [
       "<IPython.core.display.HTML object>"
      ]
     },
     "metadata": {},
     "output_type": "display_data"
    },
    {
     "data": {
      "text/html": [
       "<style>.output_result { max-width:100% !important; }</style>"
      ],
      "text/plain": [
       "<IPython.core.display.HTML object>"
      ]
     },
     "metadata": {},
     "output_type": "display_data"
    },
    {
     "data": {
      "text/html": [
       "<style>.output_area { max-width:100% !important; }</style>"
      ],
      "text/plain": [
       "<IPython.core.display.HTML object>"
      ]
     },
     "metadata": {},
     "output_type": "display_data"
    },
    {
     "data": {
      "text/html": [
       "<style>.input_area { max-width:100% !important; }</style>"
      ],
      "text/plain": [
       "<IPython.core.display.HTML object>"
      ]
     },
     "metadata": {},
     "output_type": "display_data"
    }
   ],
   "source": [
    "pd.set_option('display.max_colwidth', None) # avoid truncate columns content\n",
    "from IPython.display import display, HTML\n",
    "\n",
    "display(HTML(\"<style>.container { max-width:100% !important; }</style>\"))\n",
    "display(HTML(\"<style>.output_result { max-width:100% !important; }</style>\"))\n",
    "display(HTML(\"<style>.output_area { max-width:100% !important; }</style>\"))\n",
    "display(HTML(\"<style>.input_area { max-width:100% !important; }</style>\"))\n"
   ]
  },
  {
   "cell_type": "markdown",
   "id": "73ff266a",
   "metadata": {},
   "source": [
    "# Load dataset\n"
   ]
  },
  {
   "cell_type": "code",
   "execution_count": 64,
   "id": "be10ff0b",
   "metadata": {},
   "outputs": [
    {
     "data": {
      "text/html": [
       "<div>\n",
       "<style scoped>\n",
       "    .dataframe tbody tr th:only-of-type {\n",
       "        vertical-align: middle;\n",
       "    }\n",
       "\n",
       "    .dataframe tbody tr th {\n",
       "        vertical-align: top;\n",
       "    }\n",
       "\n",
       "    .dataframe thead th {\n",
       "        text-align: right;\n",
       "    }\n",
       "</style>\n",
       "<table border=\"1\" class=\"dataframe\">\n",
       "  <thead>\n",
       "    <tr style=\"text-align: right;\">\n",
       "      <th></th>\n",
       "      <th>review_text</th>\n",
       "      <th>vader_label</th>\n",
       "      <th>vader_label_3categ</th>\n",
       "      <th>bert_label</th>\n",
       "      <th>bert_label_3categ</th>\n",
       "      <th>bert_score</th>\n",
       "    </tr>\n",
       "  </thead>\n",
       "  <tbody>\n",
       "    <tr>\n",
       "      <th>0</th>\n",
       "      <td>Terrible service, will not buy from here again.</td>\n",
       "      <td>negative</td>\n",
       "      <td>negative</td>\n",
       "      <td>negative</td>\n",
       "      <td>negative</td>\n",
       "      <td>0.001188</td>\n",
       "    </tr>\n",
       "    <tr>\n",
       "      <th>1</th>\n",
       "      <td>Average quality, you get what you pay for.</td>\n",
       "      <td>negative</td>\n",
       "      <td>neutral</td>\n",
       "      <td>positive</td>\n",
       "      <td>positive</td>\n",
       "      <td>0.591803</td>\n",
       "    </tr>\n",
       "    <tr>\n",
       "      <th>2</th>\n",
       "      <td>Great product, very satisfied with the quality and performance.</td>\n",
       "      <td>positive</td>\n",
       "      <td>positive</td>\n",
       "      <td>positive</td>\n",
       "      <td>positive</td>\n",
       "      <td>0.999857</td>\n",
       "    </tr>\n",
       "    <tr>\n",
       "      <th>3</th>\n",
       "      <td>Very disappointed with the product, not as described.</td>\n",
       "      <td>negative</td>\n",
       "      <td>negative</td>\n",
       "      <td>negative</td>\n",
       "      <td>negative</td>\n",
       "      <td>0.000211</td>\n",
       "    </tr>\n",
       "    <tr>\n",
       "      <th>4</th>\n",
       "      <td>Excellent service, highly recommend!</td>\n",
       "      <td>positive</td>\n",
       "      <td>positive</td>\n",
       "      <td>positive</td>\n",
       "      <td>positive</td>\n",
       "      <td>0.999873</td>\n",
       "    </tr>\n",
       "    <tr>\n",
       "      <th>5</th>\n",
       "      <td>The item arrived damaged and customer service was unhelpful.</td>\n",
       "      <td>negative</td>\n",
       "      <td>negative</td>\n",
       "      <td>negative</td>\n",
       "      <td>negative</td>\n",
       "      <td>0.000206</td>\n",
       "    </tr>\n",
       "    <tr>\n",
       "      <th>6</th>\n",
       "      <td>Fast delivery and the product works perfectly!</td>\n",
       "      <td>positive</td>\n",
       "      <td>positive</td>\n",
       "      <td>positive</td>\n",
       "      <td>positive</td>\n",
       "      <td>0.999871</td>\n",
       "    </tr>\n",
       "    <tr>\n",
       "      <th>8</th>\n",
       "      <td>The service was acceptable, but could be improved.</td>\n",
       "      <td>positive</td>\n",
       "      <td>positive</td>\n",
       "      <td>negative</td>\n",
       "      <td>neutral</td>\n",
       "      <td>0.028429</td>\n",
       "    </tr>\n",
       "    <tr>\n",
       "      <th>9</th>\n",
       "      <td>Decent product, but there are better options available.</td>\n",
       "      <td>positive</td>\n",
       "      <td>positive</td>\n",
       "      <td>positive</td>\n",
       "      <td>positive</td>\n",
       "      <td>0.979263</td>\n",
       "    </tr>\n",
       "    <tr>\n",
       "      <th>12</th>\n",
       "      <td>Poor quality, would not recommend.</td>\n",
       "      <td>negative</td>\n",
       "      <td>negative</td>\n",
       "      <td>negative</td>\n",
       "      <td>negative</td>\n",
       "      <td>0.000832</td>\n",
       "    </tr>\n",
       "    <tr>\n",
       "      <th>14</th>\n",
       "      <td>The product works fine, but took a long time to arrive.</td>\n",
       "      <td>positive</td>\n",
       "      <td>positive</td>\n",
       "      <td>negative</td>\n",
       "      <td>negative</td>\n",
       "      <td>0.004364</td>\n",
       "    </tr>\n",
       "    <tr>\n",
       "      <th>15</th>\n",
       "      <td>The product broke after one use, very unhappy.</td>\n",
       "      <td>negative</td>\n",
       "      <td>negative</td>\n",
       "      <td>negative</td>\n",
       "      <td>negative</td>\n",
       "      <td>0.000230</td>\n",
       "    </tr>\n",
       "    <tr>\n",
       "      <th>27</th>\n",
       "      <td>Amazing quality, will definitely buy again.</td>\n",
       "      <td>positive</td>\n",
       "      <td>positive</td>\n",
       "      <td>positive</td>\n",
       "      <td>positive</td>\n",
       "      <td>0.999887</td>\n",
       "    </tr>\n",
       "    <tr>\n",
       "      <th>56</th>\n",
       "      <td>The product is okay, nothing special.</td>\n",
       "      <td>negative</td>\n",
       "      <td>neutral</td>\n",
       "      <td>negative</td>\n",
       "      <td>neutral</td>\n",
       "      <td>0.014107</td>\n",
       "    </tr>\n",
       "    <tr>\n",
       "      <th>63</th>\n",
       "      <td>The product exceeded my expectations, very happy with the purchase.</td>\n",
       "      <td>positive</td>\n",
       "      <td>positive</td>\n",
       "      <td>positive</td>\n",
       "      <td>positive</td>\n",
       "      <td>0.999854</td>\n",
       "    </tr>\n",
       "  </tbody>\n",
       "</table>\n",
       "</div>"
      ],
      "text/plain": [
       "                                                            review_text  \\\n",
       "0                       Terrible service, will not buy from here again.   \n",
       "1                            Average quality, you get what you pay for.   \n",
       "2       Great product, very satisfied with the quality and performance.   \n",
       "3                 Very disappointed with the product, not as described.   \n",
       "4                                  Excellent service, highly recommend!   \n",
       "5          The item arrived damaged and customer service was unhelpful.   \n",
       "6                        Fast delivery and the product works perfectly!   \n",
       "8                    The service was acceptable, but could be improved.   \n",
       "9               Decent product, but there are better options available.   \n",
       "12                                   Poor quality, would not recommend.   \n",
       "14              The product works fine, but took a long time to arrive.   \n",
       "15                       The product broke after one use, very unhappy.   \n",
       "27                          Amazing quality, will definitely buy again.   \n",
       "56                                The product is okay, nothing special.   \n",
       "63  The product exceeded my expectations, very happy with the purchase.   \n",
       "\n",
       "   vader_label vader_label_3categ bert_label bert_label_3categ  bert_score  \n",
       "0     negative           negative   negative          negative    0.001188  \n",
       "1     negative            neutral   positive          positive    0.591803  \n",
       "2     positive           positive   positive          positive    0.999857  \n",
       "3     negative           negative   negative          negative    0.000211  \n",
       "4     positive           positive   positive          positive    0.999873  \n",
       "5     negative           negative   negative          negative    0.000206  \n",
       "6     positive           positive   positive          positive    0.999871  \n",
       "8     positive           positive   negative           neutral    0.028429  \n",
       "9     positive           positive   positive          positive    0.979263  \n",
       "12    negative           negative   negative          negative    0.000832  \n",
       "14    positive           positive   negative          negative    0.004364  \n",
       "15    negative           negative   negative          negative    0.000230  \n",
       "27    positive           positive   positive          positive    0.999887  \n",
       "56    negative            neutral   negative           neutral    0.014107  \n",
       "63    positive           positive   positive          positive    0.999854  "
      ]
     },
     "execution_count": 64,
     "metadata": {},
     "output_type": "execute_result"
    }
   ],
   "source": [
    "df = pd.read_csv(\"../output/Task3/reviews_with_scores.csv\",delimiter=\",\")\n",
    "df[[\"review_text\", \"vader_label\", \"vader_label_3categ\", \"bert_label\", \"bert_label_3categ\", \"bert_score\"]].drop_duplicates()"
   ]
  },
  {
   "cell_type": "code",
   "execution_count": 65,
   "id": "187aa2a4",
   "metadata": {},
   "outputs": [
    {
     "name": "stdout",
     "output_type": "stream",
     "text": [
      "<class 'pandas.core.frame.DataFrame'>\n",
      "RangeIndex: 980 entries, 0 to 979\n",
      "Data columns (total 7 columns):\n",
      " #   Column               Non-Null Count  Dtype  \n",
      "---  ------               --------------  -----  \n",
      " 0   review_text          980 non-null    object \n",
      " 1   preprocessed_review  980 non-null    object \n",
      " 2   vader_label          980 non-null    object \n",
      " 3   vader_label_3categ   980 non-null    object \n",
      " 4   bert_score           980 non-null    float64\n",
      " 5   bert_label           980 non-null    object \n",
      " 6   bert_label_3categ    980 non-null    object \n",
      "dtypes: float64(1), object(6)\n",
      "memory usage: 53.7+ KB\n"
     ]
    }
   ],
   "source": [
    "df.info()"
   ]
  },
  {
   "attachments": {
    "image-2.png": {
     "image/png": "[encoded data removed]"
    }
   },
   "cell_type": "markdown",
   "id": "dc03434b",
   "metadata": {},
   "source": [
    "# Topic Modeling\n",
    "\n",
    "Topic modeling is applied to find the main topics within the reviews. By combining topic modeling and sentiment analysis (Task 3), we can gain valuable insights into customer feedback and drive business improvements.\n",
    "\n",
    "![image-2.png](attachment:image-2.png)\n",
    "\n",
    "I applied Latent Dirichlet Allocation (LDA), one of the most popular topic modeling methods, and a Large Language Model (LLM). I explaing both processes and then I compare the results.\n"
   ]
  },
  {
   "cell_type": "code",
   "execution_count": 66,
   "id": "cf9b6b31",
   "metadata": {},
   "outputs": [],
   "source": [
    "# Only negative reviews are taken into account in order to obtain the issues.\n",
    "# Remove duplicate reviews before running the clustering since duplicate reviews \n",
    "# can skew the clustering results by giving more weight to the repeated texts\n",
    "df_negative = df[df[\"bert_label_3categ\"] == \"negative\"].drop_duplicates(\"review_text\").copy()\n",
    "df_negative[\"tokens\"] = df_negative['preprocessed_review'].apply(lambda pp: pp.split(\" \"))"
   ]
  },
  {
   "cell_type": "markdown",
   "id": "2f2f2799",
   "metadata": {},
   "source": [
    "## LDA"
   ]
  },
  {
   "cell_type": "markdown",
   "id": "a33c8187",
   "metadata": {},
   "source": [
    "### Build LDA model"
   ]
  },
  {
   "cell_type": "code",
   "execution_count": 67,
   "id": "2ca28703",
   "metadata": {},
   "outputs": [
    {
     "data": {
      "text/html": [
       "<div>\n",
       "<style scoped>\n",
       "    .dataframe tbody tr th:only-of-type {\n",
       "        vertical-align: middle;\n",
       "    }\n",
       "\n",
       "    .dataframe tbody tr th {\n",
       "        vertical-align: top;\n",
       "    }\n",
       "\n",
       "    .dataframe thead th {\n",
       "        text-align: right;\n",
       "    }\n",
       "</style>\n",
       "<table border=\"1\" class=\"dataframe\">\n",
       "  <thead>\n",
       "    <tr style=\"text-align: right;\">\n",
       "      <th></th>\n",
       "      <th>review_text</th>\n",
       "      <th>preprocessed_review</th>\n",
       "      <th>vader_label</th>\n",
       "      <th>vader_label_3categ</th>\n",
       "      <th>bert_score</th>\n",
       "      <th>bert_label</th>\n",
       "      <th>bert_label_3categ</th>\n",
       "      <th>tokens</th>\n",
       "    </tr>\n",
       "  </thead>\n",
       "  <tbody>\n",
       "    <tr>\n",
       "      <th>0</th>\n",
       "      <td>Terrible service, will not buy from here again.</td>\n",
       "      <td>terrible service buy</td>\n",
       "      <td>negative</td>\n",
       "      <td>negative</td>\n",
       "      <td>0.001188</td>\n",
       "      <td>negative</td>\n",
       "      <td>negative</td>\n",
       "      <td>[terrible, service, buy]</td>\n",
       "    </tr>\n",
       "    <tr>\n",
       "      <th>3</th>\n",
       "      <td>Very disappointed with the product, not as described.</td>\n",
       "      <td>disappointed product described</td>\n",
       "      <td>negative</td>\n",
       "      <td>negative</td>\n",
       "      <td>0.000211</td>\n",
       "      <td>negative</td>\n",
       "      <td>negative</td>\n",
       "      <td>[disappointed, product, described]</td>\n",
       "    </tr>\n",
       "    <tr>\n",
       "      <th>5</th>\n",
       "      <td>The item arrived damaged and customer service was unhelpful.</td>\n",
       "      <td>item arrived damaged customer service unhelpful</td>\n",
       "      <td>negative</td>\n",
       "      <td>negative</td>\n",
       "      <td>0.000206</td>\n",
       "      <td>negative</td>\n",
       "      <td>negative</td>\n",
       "      <td>[item, arrived, damaged, customer, service, unhelpful]</td>\n",
       "    </tr>\n",
       "    <tr>\n",
       "      <th>12</th>\n",
       "      <td>Poor quality, would not recommend.</td>\n",
       "      <td>poor quality would recommend</td>\n",
       "      <td>negative</td>\n",
       "      <td>negative</td>\n",
       "      <td>0.000832</td>\n",
       "      <td>negative</td>\n",
       "      <td>negative</td>\n",
       "      <td>[poor, quality, would, recommend]</td>\n",
       "    </tr>\n",
       "    <tr>\n",
       "      <th>14</th>\n",
       "      <td>The product works fine, but took a long time to arrive.</td>\n",
       "      <td>product work fine took long time arrive</td>\n",
       "      <td>positive</td>\n",
       "      <td>positive</td>\n",
       "      <td>0.004364</td>\n",
       "      <td>negative</td>\n",
       "      <td>negative</td>\n",
       "      <td>[product, work, fine, took, long, time, arrive]</td>\n",
       "    </tr>\n",
       "    <tr>\n",
       "      <th>15</th>\n",
       "      <td>The product broke after one use, very unhappy.</td>\n",
       "      <td>product broke one use unhappy</td>\n",
       "      <td>negative</td>\n",
       "      <td>negative</td>\n",
       "      <td>0.000230</td>\n",
       "      <td>negative</td>\n",
       "      <td>negative</td>\n",
       "      <td>[product, broke, one, use, unhappy]</td>\n",
       "    </tr>\n",
       "  </tbody>\n",
       "</table>\n",
       "</div>"
      ],
      "text/plain": [
       "                                                     review_text  \\\n",
       "0                Terrible service, will not buy from here again.   \n",
       "3          Very disappointed with the product, not as described.   \n",
       "5   The item arrived damaged and customer service was unhelpful.   \n",
       "12                            Poor quality, would not recommend.   \n",
       "14       The product works fine, but took a long time to arrive.   \n",
       "15                The product broke after one use, very unhappy.   \n",
       "\n",
       "                                preprocessed_review vader_label  \\\n",
       "0                              terrible service buy    negative   \n",
       "3                    disappointed product described    negative   \n",
       "5   item arrived damaged customer service unhelpful    negative   \n",
       "12                     poor quality would recommend    negative   \n",
       "14          product work fine took long time arrive    positive   \n",
       "15                    product broke one use unhappy    negative   \n",
       "\n",
       "   vader_label_3categ  bert_score bert_label bert_label_3categ  \\\n",
       "0            negative    0.001188   negative          negative   \n",
       "3            negative    0.000211   negative          negative   \n",
       "5            negative    0.000206   negative          negative   \n",
       "12           negative    0.000832   negative          negative   \n",
       "14           positive    0.004364   negative          negative   \n",
       "15           negative    0.000230   negative          negative   \n",
       "\n",
       "                                                    tokens  \n",
       "0                                 [terrible, service, buy]  \n",
       "3                       [disappointed, product, described]  \n",
       "5   [item, arrived, damaged, customer, service, unhelpful]  \n",
       "12                       [poor, quality, would, recommend]  \n",
       "14         [product, work, fine, took, long, time, arrive]  \n",
       "15                     [product, broke, one, use, unhappy]  "
      ]
     },
     "execution_count": 67,
     "metadata": {},
     "output_type": "execute_result"
    }
   ],
   "source": [
    "df_negative"
   ]
  },
  {
   "cell_type": "code",
   "execution_count": 94,
   "id": "a6c5187c",
   "metadata": {},
   "outputs": [
    {
     "name": "stdout",
     "output_type": "stream",
     "text": [
      "Topic 0: 0.094*\"would\" + 0.094*\"recommend\" + 0.094*\"quality\" + 0.094*\"poor\" + 0.094*\"described\"\n",
      "Topic 1: 0.123*\"product\" + 0.068*\"long\" + 0.068*\"work\" + 0.068*\"arrive\" + 0.068*\"time\"\n",
      "Topic 2: 0.135*\"terrible\" + 0.135*\"buy\" + 0.134*\"service\" + 0.027*\"product\" + 0.027*\"disappointed\"\n",
      "Topic 3: 0.102*\"service\" + 0.102*\"item\" + 0.102*\"unhelpful\" + 0.102*\"customer\" + 0.102*\"damaged\"\n"
     ]
    }
   ],
   "source": [
    "def run_LDA(df, num_topics):\n",
    "\n",
    "    id2word = Dictionary(df[\"tokens\"].tolist())\n",
    "    #id2word.filter_extremes(no_below=1)\n",
    "\n",
    "    corpus = [id2word.doc2bow(text) for text in df[\"tokens\"]]\n",
    "    lda_model = LdaModel(corpus=corpus, num_topics=num_topics, id2word=id2word, passes=3)\n",
    "\n",
    "    for idx, topic in lda_model.print_topics(num_topics=num_topics, num_words=5):\n",
    "        print(f\"Topic {idx}: {topic}\")\n",
    "        \n",
    "    return lda_model, corpus, id2word\n",
    "\n",
    "num_topics_lda=4\n",
    "lda_model, corpus, id2word = run_LDA(df_negative, num_topics=num_topics_lda)"
   ]
  },
  {
   "cell_type": "markdown",
   "id": "b34391b8",
   "metadata": {},
   "source": [
    "### Topics visualization"
   ]
  },
  {
   "cell_type": "code",
   "execution_count": 95,
   "id": "a3471fe6",
   "metadata": {},
   "outputs": [
    {
     "data": {
      "text/html": [
       "\n",
       "<link rel=\"stylesheet\" type=\"text/css\" href=\"https://cdn.jsdelivr.net/gh/bmabey/pyLDAvis@3.4.0/pyLDAvis/js/ldavis.v1.0.0.css\">\n",
       "\n",
       "\n",
       "<div id=\"ldavis_el49511403710088713284209985264\" style=\"background-color:white;\"></div>\n",
       "<script type=\"text/javascript\">\n",
       "\n",
       "var ldavis_el49511403710088713284209985264_data = {\"mdsDat\": {\"x\": [0.10328925059928913, 0.029926749489012302, -0.09781112690258567, -0.035404873185715675], \"y\": [-0.06021515798213764, 0.10169493239931496, -0.027362540158416684, -0.014117234258760629], \"topics\": [1, 2, 3, 4], \"cluster\": [1, 1, 1, 1], \"Freq\": [41.11140092333122, 23.789727809489804, 22.714054033761148, 12.38481723341783]}, \"tinfo\": {\"Term\": [\"service\", \"terrible\", \"buy\", \"item\", \"unhelpful\", \"customer\", \"damaged\", \"arrived\", \"would\", \"recommend\", \"quality\", \"poor\", \"described\", \"disappointed\", \"product\", \"work\", \"long\", \"arrive\", \"fine\", \"time\", \"took\", \"broke\", \"one\", \"unhappy\", \"use\", \"long\", \"work\", \"arrive\", \"time\", \"took\", \"fine\", \"broke\", \"one\", \"use\", \"unhappy\", \"product\", \"buy\", \"terrible\", \"described\", \"disappointed\", \"quality\", \"recommend\", \"poor\", \"would\", \"arrived\", \"damaged\", \"unhelpful\", \"customer\", \"item\", \"service\", \"would\", \"recommend\", \"quality\", \"poor\", \"described\", \"disappointed\", \"product\", \"buy\", \"terrible\", \"damaged\", \"arrived\", \"customer\", \"unhelpful\", \"item\", \"broke\", \"unhappy\", \"use\", \"one\", \"took\", \"time\", \"fine\", \"work\", \"arrive\", \"long\", \"service\", \"item\", \"unhelpful\", \"customer\", \"damaged\", \"arrived\", \"service\", \"terrible\", \"buy\", \"disappointed\", \"poor\", \"described\", \"recommend\", \"quality\", \"would\", \"unhappy\", \"use\", \"fine\", \"one\", \"time\", \"took\", \"arrive\", \"broke\", \"long\", \"work\", \"product\", \"terrible\", \"buy\", \"service\", \"disappointed\", \"described\", \"poor\", \"quality\", \"recommend\", \"would\", \"arrived\", \"customer\", \"damaged\", \"unhelpful\", \"item\", \"unhappy\", \"broke\", \"fine\", \"use\", \"one\", \"took\", \"time\", \"work\", \"arrive\", \"long\", \"product\"], \"Freq\": [1.0, 0.0, 0.0, 1.0, 1.0, 1.0, 1.0, 1.0, 1.0, 1.0, 1.0, 1.0, 1.0, 1.0, 2.0, 1.0, 1.0, 1.0, 1.0, 1.0, 1.0, 1.0, 1.0, 1.0, 1.0, 0.7876987577486835, 0.7874988393868398, 0.7874085287755052, 0.7872378563001432, 0.7871409417789578, 0.7871069788140114, 0.7870412827757565, 0.7870143525459757, 0.7869485707426578, 0.7866608289563064, 1.4215888529421812, 0.15847520395659304, 0.15838761638600843, 0.15875453004613801, 0.1587193127671453, 0.15845007479313522, 0.15843394024065913, 0.15836836212936584, 0.1583754806295945, 0.15831927235143353, 0.15819733587311902, 0.1581121497242983, 0.15807680379771108, 0.15807518498214704, 0.15910143900532378, 0.6277167572648173, 0.6274703977269869, 0.6272698459759045, 0.627222549312014, 0.6268658639779311, 0.6265750862720187, 0.6248616864565354, 0.12669966058953386, 0.12647305348845933, 0.12624912636624114, 0.12619684196392356, 0.12618576223652214, 0.12617903747476228, 0.12616933495871757, 0.1263001080010591, 0.12627454894344775, 0.1262828122115881, 0.12627555393551887, 0.12624767471102727, 0.12619240014711539, 0.1261590244845064, 0.12616362759633834, 0.1261297804559676, 0.12609865051638175, 0.12686429317955564, 0.6475408037380859, 0.6474104470314683, 0.6473068629672496, 0.6472366380893116, 0.647076286546166, 0.6487735299186219, 0.13046678245519802, 0.13029011855427228, 0.13050130257906967, 0.1304236974550192, 0.13033389063996398, 0.13033200707795453, 0.13032113217276778, 0.13018157088953797, 0.130261260962731, 0.1301628655787647, 0.13014662429879625, 0.13011648730664477, 0.13007622172632918, 0.1300645175800062, 0.13006631821790204, 0.13005132079963796, 0.1299102668823629, 0.1299025667860978, 0.13098175304710732, 0.4666731943782445, 0.4665800787625922, 0.46627939076731995, 0.0943824039966899, 0.0942660482322365, 0.09416518159419363, 0.09415555740805864, 0.0940081265030043, 0.09396815060502484, 0.09398212182288387, 0.09396800850294768, 0.09389997390391427, 0.09387726986749517, 0.09381239381008594, 0.09403322689717916, 0.09394008544478558, 0.0939370237909413, 0.09392745127828891, 0.09392730271702643, 0.09391029568206441, 0.09388554408389713, 0.0938773796736457, 0.09383798510234553, 0.09380160051140704, 0.09465290175975083], \"Total\": [1.0, 0.0, 0.0, 1.0, 1.0, 1.0, 1.0, 1.0, 1.0, 1.0, 1.0, 1.0, 1.0, 1.0, 2.0, 1.0, 1.0, 1.0, 1.0, 1.0, 1.0, 1.0, 1.0, 1.0, 1.0, 1.1375092756588352, 1.1374424134429215, 1.1374426125517205, 1.137392022257485, 1.1373634297520556, 1.1373496513882555, 1.137332797021239, 1.1373336965051657, 1.1373216998112994, 1.1372298657596642, 2.2720851942055744, 0.8820450618629914, 0.8820006467079103, 1.0102203328962696, 1.0101781056149237, 1.010196610349866, 1.010244471548605, 1.010179790490593, 1.0102419593889747, 1.0255745226844069, 1.0255830742325862, 1.025578904098024, 1.0255374375044306, 1.0255977174890365, 1.4010186528708213, 1.0102419593889747, 1.010244471548605, 1.010196610349866, 1.010179790490593, 1.0102203328962696, 1.0101781056149237, 2.2720851942055744, 0.8820450618629914, 0.8820006467079103, 1.0255830742325862, 1.0255745226844069, 1.0255374375044306, 1.025578904098024, 1.0255977174890365, 1.137332797021239, 1.1372298657596642, 1.1373216998112994, 1.1373336965051657, 1.1373634297520556, 1.137392022257485, 1.1373496513882555, 1.1374424134429215, 1.1374426125517205, 1.1375092756588352, 1.4010186528708213, 1.0255977174890365, 1.025578904098024, 1.0255374375044306, 1.0255830742325862, 1.0255745226844069, 1.4010186528708213, 0.8820006467079103, 0.8820450618629914, 1.0101781056149237, 1.010179790490593, 1.0102203328962696, 1.010244471548605, 1.010196610349866, 1.0102419593889747, 1.1372298657596642, 1.1373216998112994, 1.1373496513882555, 1.1373336965051657, 1.137392022257485, 1.1373634297520556, 1.1374426125517205, 1.137332797021239, 1.1375092756588352, 1.1374424134429215, 2.2720851942055744, 0.8820006467079103, 0.8820450618629914, 1.4010186528708213, 1.0101781056149237, 1.0102203328962696, 1.010179790490593, 1.010196610349866, 1.010244471548605, 1.0102419593889747, 1.0255745226844069, 1.0255374375044306, 1.0255830742325862, 1.025578904098024, 1.0255977174890365, 1.1372298657596642, 1.137332797021239, 1.1373496513882555, 1.1373216998112994, 1.1373336965051657, 1.1373634297520556, 1.137392022257485, 1.1374424134429215, 1.1374426125517205, 1.1375092756588352, 2.2720851942055744], \"Category\": [\"Default\", \"Default\", \"Default\", \"Default\", \"Default\", \"Default\", \"Default\", \"Default\", \"Default\", \"Default\", \"Default\", \"Default\", \"Default\", \"Default\", \"Default\", \"Default\", \"Default\", \"Default\", \"Default\", \"Default\", \"Default\", \"Default\", \"Default\", \"Default\", \"Default\", \"Topic1\", \"Topic1\", \"Topic1\", \"Topic1\", \"Topic1\", \"Topic1\", \"Topic1\", \"Topic1\", \"Topic1\", \"Topic1\", \"Topic1\", \"Topic1\", \"Topic1\", \"Topic1\", \"Topic1\", \"Topic1\", \"Topic1\", \"Topic1\", \"Topic1\", \"Topic1\", \"Topic1\", \"Topic1\", \"Topic1\", \"Topic1\", \"Topic1\", \"Topic2\", \"Topic2\", \"Topic2\", \"Topic2\", \"Topic2\", \"Topic2\", \"Topic2\", \"Topic2\", \"Topic2\", \"Topic2\", \"Topic2\", \"Topic2\", \"Topic2\", \"Topic2\", \"Topic2\", \"Topic2\", \"Topic2\", \"Topic2\", \"Topic2\", \"Topic2\", \"Topic2\", \"Topic2\", \"Topic2\", \"Topic2\", \"Topic2\", \"Topic3\", \"Topic3\", \"Topic3\", \"Topic3\", \"Topic3\", \"Topic3\", \"Topic3\", \"Topic3\", \"Topic3\", \"Topic3\", \"Topic3\", \"Topic3\", \"Topic3\", \"Topic3\", \"Topic3\", \"Topic3\", \"Topic3\", \"Topic3\", \"Topic3\", \"Topic3\", \"Topic3\", \"Topic3\", \"Topic3\", \"Topic3\", \"Topic3\", \"Topic4\", \"Topic4\", \"Topic4\", \"Topic4\", \"Topic4\", \"Topic4\", \"Topic4\", \"Topic4\", \"Topic4\", \"Topic4\", \"Topic4\", \"Topic4\", \"Topic4\", \"Topic4\", \"Topic4\", \"Topic4\", \"Topic4\", \"Topic4\", \"Topic4\", \"Topic4\", \"Topic4\", \"Topic4\", \"Topic4\", \"Topic4\", \"Topic4\"], \"logprob\": [25.0, 24.0, 23.0, 22.0, 21.0, 20.0, 19.0, 18.0, 17.0, 16.0, 15.0, 14.0, 13.0, 12.0, 11.0, 10.0, 9.0, 8.0, 7.0, 6.0, 5.0, 4.0, 3.0, 2.0, 1.0, -2.682, -2.6822, -2.6823, -2.6825, -2.6827, -2.6827, -2.6828, -2.6828, -2.6829, -2.6833, -2.0915, -4.2855, -4.286, -4.2837, -4.2839, -4.2856, -4.2857, -4.2862, -4.2861, -4.2865, -4.2872, -4.2878, -4.288, -4.288, -4.2815, -2.362, -2.3623, -2.3627, -2.3627, -2.3633, -2.3638, -2.3665, -3.9622, -3.964, -3.9658, -3.9662, -3.9663, -3.9663, -3.9664, -3.9654, -3.9656, -3.9655, -3.9656, -3.9658, -3.9662, -3.9665, -3.9665, -3.9667, -3.967, -3.9609, -2.2846, -2.2848, -2.285, -2.2851, -2.2853, -2.2827, -3.8867, -3.888, -3.8864, -3.887, -3.8877, -3.8877, -3.8878, -3.8888, -3.8882, -3.889, -3.8891, -3.8893, -3.8897, -3.8897, -3.8897, -3.8898, -3.8909, -3.891, -3.8827, -2.0056, -2.0058, -2.0065, -3.6039, -3.6051, -3.6062, -3.6063, -3.6079, -3.6083, -3.6082, -3.6083, -3.609, -3.6093, -3.61, -3.6076, -3.6086, -3.6086, -3.6087, -3.6087, -3.6089, -3.6092, -3.6093, -3.6097, -3.6101, -3.601], \"loglift\": [25.0, 24.0, 23.0, 22.0, 21.0, 20.0, 19.0, 18.0, 17.0, 16.0, 15.0, 14.0, 13.0, 12.0, 11.0, 10.0, 9.0, 8.0, 7.0, 6.0, 5.0, 4.0, 3.0, 2.0, 1.0, 0.5214, 0.5212, 0.5211, 0.5209, 0.5208, 0.5208, 0.5207, 0.5207, 0.5206, 0.5203, 0.42, -0.8278, -0.8283, -0.9617, -0.9619, -0.9636, -0.9637, -0.9641, -0.9641, -0.9795, -0.9803, -0.9808, -0.981, -0.9811, -1.2865, 0.9601, 0.9597, 0.9594, 0.9593, 0.9587, 0.9583, 0.145, -0.5045, -0.5062, -0.6588, -0.6592, -0.6593, -0.6594, -0.6595, -0.7619, -0.762, -0.762, -0.7621, -0.7623, -0.7628, -0.763, -0.763, -0.7633, -0.7636, -0.9659, 1.0223, 1.0222, 1.022, 1.0219, 1.0216, 0.7123, -0.4289, -0.4303, -0.5643, -0.5649, -0.5656, -0.5657, -0.5657, -0.5668, -0.6846, -0.6855, -0.6856, -0.6858, -0.6862, -0.6863, -0.6863, -0.6863, -0.6876, -0.6876, -1.3712, 1.4521, 1.4519, 0.9885, -0.2818, -0.2831, -0.2841, -0.2843, -0.2859, -0.2863, -0.3012, -0.3013, -0.3021, -0.3023, -0.303, -0.404, -0.4051, -0.4051, -0.4052, -0.4052, -0.4054, -0.4057, -0.4058, -0.4063, -0.4067, -1.0895]}, \"token.table\": {\"Topic\": [1, 3, 1, 3, 3, 2, 2, 1, 3, 1, 1, 2, 1, 2, 2, 2, 3, 1, 1, 1, 3, 1, 1, 2], \"Freq\": [0.8791652334499901, 0.9750632234725699, 0.8792501215291391, 0.9750984834190217, 0.9750550931705564, 0.9898830655417832, 0.989924444453557, 0.8792370919350916, 0.9750411715504719, 0.8791137104537534, 0.8792494261559567, 0.9899227933617152, 0.44012434153009217, 0.44012434153009217, 0.989906311063215, 0.9898594134022816, 0.7137663713119767, 0.8792043380216519, 0.8792264405916403, 0.8793297029110334, 0.9750590578688626, 0.8792587006525213, 0.8791653873474813, 0.9898618748768173], \"Term\": [\"arrive\", \"arrived\", \"broke\", \"customer\", \"damaged\", \"described\", \"disappointed\", \"fine\", \"item\", \"long\", \"one\", \"poor\", \"product\", \"product\", \"quality\", \"recommend\", \"service\", \"time\", \"took\", \"unhappy\", \"unhelpful\", \"use\", \"work\", \"would\"]}, \"R\": 25, \"lambda.step\": 0.01, \"plot.opts\": {\"xlab\": \"PC1\", \"ylab\": \"PC2\"}, \"topic.order\": [2, 1, 4, 3]};\n",
       "\n",
       "function LDAvis_load_lib(url, callback){\n",
       "  var s = document.createElement('script');\n",
       "  s.src = url;\n",
       "  s.async = true;\n",
       "  s.onreadystatechange = s.onload = callback;\n",
       "  s.onerror = function(){console.warn(\"failed to load library \" + url);};\n",
       "  document.getElementsByTagName(\"head\")[0].appendChild(s);\n",
       "}\n",
       "\n",
       "if(typeof(LDAvis) !== \"undefined\"){\n",
       "   // already loaded: just create the visualization\n",
       "   !function(LDAvis){\n",
       "       new LDAvis(\"#\" + \"ldavis_el49511403710088713284209985264\", ldavis_el49511403710088713284209985264_data);\n",
       "   }(LDAvis);\n",
       "}else if(typeof define === \"function\" && define.amd){\n",
       "   // require.js is available: use it to load d3/LDAvis\n",
       "   require.config({paths: {d3: \"https://d3js.org/d3.v5\"}});\n",
       "   require([\"d3\"], function(d3){\n",
       "      window.d3 = d3;\n",
       "      LDAvis_load_lib(\"https://cdn.jsdelivr.net/gh/bmabey/pyLDAvis@3.4.0/pyLDAvis/js/ldavis.v3.0.0.js\", function(){\n",
       "        new LDAvis(\"#\" + \"ldavis_el49511403710088713284209985264\", ldavis_el49511403710088713284209985264_data);\n",
       "      });\n",
       "    });\n",
       "}else{\n",
       "    // require.js not available: dynamically load d3 & LDAvis\n",
       "    LDAvis_load_lib(\"https://d3js.org/d3.v5.js\", function(){\n",
       "         LDAvis_load_lib(\"https://cdn.jsdelivr.net/gh/bmabey/pyLDAvis@3.4.0/pyLDAvis/js/ldavis.v3.0.0.js\", function(){\n",
       "                 new LDAvis(\"#\" + \"ldavis_el49511403710088713284209985264\", ldavis_el49511403710088713284209985264_data);\n",
       "            })\n",
       "         });\n",
       "}\n",
       "</script>"
      ],
      "text/plain": [
       "<IPython.core.display.HTML object>"
      ]
     },
     "execution_count": 95,
     "metadata": {},
     "output_type": "execute_result"
    }
   ],
   "source": [
    "pyLDAvis.enable_notebook()\n",
    "LDAvis_prepared = pyLDAvis.gensim_models.prepare(lda_model, corpus, id2word)\n",
    "pyLDAvis.display(LDAvis_prepared)"
   ]
  },
  {
   "cell_type": "code",
   "execution_count": 72,
   "id": "134b6755",
   "metadata": {},
   "outputs": [],
   "source": [
    "pyLDAvis.save_html(LDAvis_prepared, '../output/task4/ldavis.html')"
   ]
  },
  {
   "cell_type": "code",
   "execution_count": 73,
   "id": "746a9df7",
   "metadata": {},
   "outputs": [
    {
     "data": {
      "text/html": [
       "\n",
       "<link rel=\"stylesheet\" type=\"text/css\" href=\"https://cdn.jsdelivr.net/gh/bmabey/pyLDAvis@3.4.0/pyLDAvis/js/ldavis.v1.0.0.css\">\n",
       "\n",
       "\n",
       "<div id=\"ldavis_el49511403710055007689572064561\" style=\"background-color:white;\"></div>\n",
       "<script type=\"text/javascript\">\n",
       "\n",
       "var ldavis_el49511403710055007689572064561_data = {\"mdsDat\": {\"x\": [0.03540761300177186, -0.11932437108087283, 0.08532093871327966, -0.0014041806341786771], \"y\": [-0.10069838372664482, 0.023699349778906097, 0.07496697622937272, 0.0020320577183660714], \"topics\": [1, 2, 3, 4], \"cluster\": [1, 1, 1, 1], \"Freq\": [37.5704616610041, 34.26716190971148, 23.80541798597227, 4.356958443312144]}, \"tinfo\": {\"Term\": [\"recommend\", \"buy\", \"would\", \"poor\", \"quality\", \"terrible\", \"service\", \"work\", \"time\", \"arrive\", \"took\", \"fine\", \"long\", \"described\", \"disappointed\", \"product\", \"unhelpful\", \"use\", \"one\", \"arrived\", \"customer\", \"broke\", \"item\", \"damaged\", \"unhappy\", \"item\", \"unhappy\", \"damaged\", \"customer\", \"one\", \"broke\", \"unhelpful\", \"arrived\", \"use\", \"service\", \"product\", \"quality\", \"terrible\", \"buy\", \"would\", \"poor\", \"recommend\", \"described\", \"disappointed\", \"long\", \"time\", \"fine\", \"work\", \"took\", \"arrive\", \"arrive\", \"work\", \"took\", \"fine\", \"time\", \"long\", \"disappointed\", \"described\", \"product\", \"terrible\", \"quality\", \"buy\", \"poor\", \"would\", \"recommend\", \"use\", \"broke\", \"arrived\", \"customer\", \"unhelpful\", \"one\", \"damaged\", \"unhappy\", \"item\", \"service\", \"recommend\", \"would\", \"poor\", \"buy\", \"quality\", \"terrible\", \"service\", \"disappointed\", \"described\", \"long\", \"fine\", \"time\", \"took\", \"work\", \"arrive\", \"use\", \"unhelpful\", \"arrived\", \"one\", \"broke\", \"damaged\", \"unhappy\", \"customer\", \"item\", \"product\", \"terrible\", \"quality\", \"buy\", \"poor\", \"recommend\", \"would\", \"described\", \"disappointed\", \"long\", \"work\", \"time\", \"fine\", \"took\", \"arrive\", \"use\", \"unhelpful\", \"arrived\", \"one\", \"broke\", \"customer\", \"damaged\", \"item\", \"unhappy\", \"service\", \"product\"], \"Freq\": [0.0, 0.0, 0.0, 0.0, 0.0, 0.0, 1.0, 1.0, 1.0, 1.0, 1.0, 1.0, 1.0, 1.0, 1.0, 2.0, 1.0, 1.0, 1.0, 1.0, 1.0, 1.0, 1.0, 1.0, 1.0, 0.7617538576653969, 0.7616823768451993, 0.761563477279147, 0.7613622807161566, 0.7612882917970047, 0.7611416463862705, 0.7609985279896906, 0.7609866145196577, 0.7607028074473601, 0.7637401936591113, 0.7596336518899968, 0.15352887851712707, 0.1535091958186927, 0.15323329513645803, 0.15324106436485943, 0.15323291304325795, 0.1532191478907939, 0.15360021237840155, 0.1535194437542638, 0.1531551815701977, 0.15300037504060038, 0.1529559738513, 0.152941611065882, 0.15292478916781743, 0.15281417808502812, 0.7374610010151244, 0.737084622634601, 0.7371097145266359, 0.7370545981484053, 0.7369683849809009, 0.7366169555186686, 0.735662462805136, 0.7356406593092082, 1.3289744043708693, 0.14888326860473122, 0.14851188536938142, 0.1484881070486176, 0.14822076401945092, 0.1481607954697906, 0.14803982181082748, 0.14824933196063167, 0.14826168131775141, 0.14820884358356254, 0.1481531553103569, 0.14808358071228578, 0.14806671874637772, 0.14803731977031118, 0.147986036875586, 0.14796462655745368, 0.14891624192439248, 0.6280518287253649, 0.6279583152304034, 0.627878458777988, 0.6272789891031708, 0.6269768953220497, 0.6264600135081572, 0.6265601320455138, 0.1266504960377832, 0.12657570510660313, 0.12634670133409046, 0.12621014332412206, 0.1261893970349451, 0.12619109795751676, 0.12613317968162782, 0.1260790233001857, 0.12649680464716598, 0.12644031415299778, 0.12639277522944392, 0.12630969074879034, 0.12628012945942452, 0.12628279879046764, 0.1262568876561096, 0.126236935958499, 0.12620883969733357, 0.1270716668144136, 0.048995268218947036, 0.04891170097598849, 0.04889708988799024, 0.04875388304695985, 0.04875090629341744, 0.04874020815931235, 0.048834750760751694, 0.048824461646217315, 0.048743616655734956, 0.048740226337959935, 0.04873805853423516, 0.04871583059289786, 0.04871501255375643, 0.04867791447869277, 0.048829919785155385, 0.04881213197849127, 0.048793003496567594, 0.04877583830858334, 0.04876982572089386, 0.048751910663696635, 0.04870832281144433, 0.04870017877732524, 0.048697297461682665, 0.04896871375948397, 0.049102358631883475], \"Total\": [0.0, 0.0, 0.0, 0.0, 0.0, 0.0, 1.0, 1.0, 1.0, 1.0, 1.0, 1.0, 1.0, 1.0, 1.0, 2.0, 1.0, 1.0, 1.0, 1.0, 1.0, 1.0, 1.0, 1.0, 1.0, 1.0846275026975096, 1.0846225988385776, 1.0845919186513702, 1.0845042826487092, 1.0844405396007564, 1.0844532828843403, 1.0843345548334655, 1.0843812368292316, 1.0842788638403131, 1.5881852813885016, 2.2647820817071627, 0.9779293601845467, 0.9778477461505282, 0.9778974811762366, 0.9781003832243658, 0.9780860188876567, 0.9780617047204037, 1.0646513275549645, 1.0646568642434002, 1.0648624550786916, 1.0648962155906816, 1.0649365459167253, 1.0648996397200707, 1.0649406142057263, 1.0650321168790309, 1.0650321168790309, 1.0648996397200707, 1.0649406142057263, 1.0649365459167253, 1.0648962155906816, 1.0648624550786916, 1.0646568642434002, 1.0646513275549645, 2.2647820817071627, 0.9778477461505282, 0.9779293601845467, 0.9778974811762366, 0.9780860188876567, 0.9781003832243658, 0.9780617047204037, 1.0842788638403131, 1.0844532828843403, 1.0843812368292316, 1.0845042826487092, 1.0843345548334655, 1.0844405396007564, 1.0845919186513702, 1.0846225988385776, 1.0846275026975096, 1.5881852813885016, 0.9780617047204037, 0.9781003832243658, 0.9780860188876567, 0.9778974811762366, 0.9779293601845467, 0.9778477461505282, 1.5881852813885016, 1.0646568642434002, 1.0646513275549645, 1.0648624550786916, 1.0649365459167253, 1.0648962155906816, 1.0649406142057263, 1.0648996397200707, 1.0650321168790309, 1.0842788638403131, 1.0843345548334655, 1.0843812368292316, 1.0844405396007564, 1.0844532828843403, 1.0845919186513702, 1.0846225988385776, 1.0845042826487092, 1.0846275026975096, 2.2647820817071627, 0.9778477461505282, 0.9779293601845467, 0.9778974811762366, 0.9780860188876567, 0.9780617047204037, 0.9781003832243658, 1.0646513275549645, 1.0646568642434002, 1.0648624550786916, 1.0648996397200707, 1.0648962155906816, 1.0649365459167253, 1.0649406142057263, 1.0650321168790309, 1.0842788638403131, 1.0843345548334655, 1.0843812368292316, 1.0844405396007564, 1.0844532828843403, 1.0845042826487092, 1.0845919186513702, 1.0846275026975096, 1.0846225988385776, 1.5881852813885016, 2.2647820817071627], \"Category\": [\"Default\", \"Default\", \"Default\", \"Default\", \"Default\", \"Default\", \"Default\", \"Default\", \"Default\", \"Default\", \"Default\", \"Default\", \"Default\", \"Default\", \"Default\", \"Default\", \"Default\", \"Default\", \"Default\", \"Default\", \"Default\", \"Default\", \"Default\", \"Default\", \"Default\", \"Topic1\", \"Topic1\", \"Topic1\", \"Topic1\", \"Topic1\", \"Topic1\", \"Topic1\", \"Topic1\", \"Topic1\", \"Topic1\", \"Topic1\", \"Topic1\", \"Topic1\", \"Topic1\", \"Topic1\", \"Topic1\", \"Topic1\", \"Topic1\", \"Topic1\", \"Topic1\", \"Topic1\", \"Topic1\", \"Topic1\", \"Topic1\", \"Topic1\", \"Topic2\", \"Topic2\", \"Topic2\", \"Topic2\", \"Topic2\", \"Topic2\", \"Topic2\", \"Topic2\", \"Topic2\", \"Topic2\", \"Topic2\", \"Topic2\", \"Topic2\", \"Topic2\", \"Topic2\", \"Topic2\", \"Topic2\", \"Topic2\", \"Topic2\", \"Topic2\", \"Topic2\", \"Topic2\", \"Topic2\", \"Topic2\", \"Topic2\", \"Topic3\", \"Topic3\", \"Topic3\", \"Topic3\", \"Topic3\", \"Topic3\", \"Topic3\", \"Topic3\", \"Topic3\", \"Topic3\", \"Topic3\", \"Topic3\", \"Topic3\", \"Topic3\", \"Topic3\", \"Topic3\", \"Topic3\", \"Topic3\", \"Topic3\", \"Topic3\", \"Topic3\", \"Topic3\", \"Topic3\", \"Topic3\", \"Topic3\", \"Topic4\", \"Topic4\", \"Topic4\", \"Topic4\", \"Topic4\", \"Topic4\", \"Topic4\", \"Topic4\", \"Topic4\", \"Topic4\", \"Topic4\", \"Topic4\", \"Topic4\", \"Topic4\", \"Topic4\", \"Topic4\", \"Topic4\", \"Topic4\", \"Topic4\", \"Topic4\", \"Topic4\", \"Topic4\", \"Topic4\", \"Topic4\", \"Topic4\"], \"logprob\": [25.0, 24.0, 23.0, 22.0, 21.0, 20.0, 19.0, 18.0, 17.0, 16.0, 15.0, 14.0, 13.0, 12.0, 11.0, 10.0, 9.0, 8.0, 7.0, 6.0, 5.0, 4.0, 3.0, 2.0, 1.0, -2.6254, -2.6255, -2.6256, -2.6259, -2.626, -2.6262, -2.6264, -2.6264, -2.6268, -2.6228, -2.6282, -4.2271, -4.2272, -4.229, -4.229, -4.229, -4.2291, -4.2267, -4.2272, -4.2296, -4.2306, -4.2309, -4.231, -4.2311, -4.2318, -2.5658, -2.5663, -2.5662, -2.5663, -2.5664, -2.5669, -2.5682, -2.5682, -1.9768, -4.1658, -4.1683, -4.1685, -4.1703, -4.1707, -4.1715, -4.1701, -4.17, -4.1704, -4.1707, -4.1712, -4.1713, -4.1715, -4.1719, -4.172, -4.1656, -2.3621, -2.3622, -2.3624, -2.3633, -2.3638, -2.3646, -2.3645, -3.9633, -3.9639, -3.9657, -3.9668, -3.9669, -3.9669, -3.9674, -3.9678, -3.9645, -3.9649, -3.9653, -3.966, -3.9662, -3.9662, -3.9664, -3.9665, -3.9668, -3.96, -3.2148, -3.2165, -3.2168, -3.2198, -3.2198, -3.2201, -3.2181, -3.2183, -3.22, -3.2201, -3.2201, -3.2206, -3.2206, -3.2213, -3.2182, -3.2186, -3.219, -3.2193, -3.2195, -3.2198, -3.2207, -3.2209, -3.2209, -3.2154, -3.2127], \"loglift\": [25.0, 24.0, 23.0, 22.0, 21.0, 20.0, 19.0, 18.0, 17.0, 16.0, 15.0, 14.0, 13.0, 12.0, 11.0, 10.0, 9.0, 8.0, 7.0, 6.0, 5.0, 4.0, 3.0, 2.0, 1.0, 0.6256, 0.6255, 0.6254, 0.6252, 0.6251, 0.6249, 0.6249, 0.6248, 0.6245, 0.2468, -0.1134, -0.8726, -0.8726, -0.8745, -0.8746, -0.8747, -0.8748, -0.9571, -0.9576, -0.9602, -0.9612, -0.9616, -0.9616, -0.9618, -0.9626, 0.7034, 0.703, 0.703, 0.703, 0.7029, 0.7024, 0.7013, 0.7013, 0.5379, -0.8112, -0.8138, -0.8139, -0.8159, -0.8163, -0.8171, -0.9188, -0.9189, -0.9192, -0.9196, -0.92, -0.9202, -0.9205, -0.9209, -0.921, -1.296, 0.9923, 0.9921, 0.992, 0.9912, 0.9907, 0.99, 0.5052, -0.6937, -0.6943, -0.6963, -0.6975, -0.6976, -0.6976, -0.698, -0.6986, -0.7132, -0.7137, -0.7141, -0.7148, -0.7151, -0.7152, -0.7154, -0.7155, -0.7158, -1.4452, 0.1398, 0.138, 0.1377, 0.1346, 0.1345, 0.1343, 0.0514, 0.0512, 0.0494, 0.0493, 0.0492, 0.0487, 0.0487, 0.0479, 0.0331, 0.0327, 0.0322, 0.0318, 0.0317, 0.0313, 0.0303, 0.0301, 0.03, -0.3458, -0.6979]}, \"token.table\": {\"Topic\": [2, 1, 1, 3, 1, 1, 2, 2, 2, 1, 2, 1, 3, 1, 2, 3, 3, 1, 3, 3, 2, 2, 1, 1, 1, 2, 3], \"Freq\": [0.9389388208595991, 0.9221848977431911, 0.9221236320482904, 1.02260208176135, 0.9220802683763291, 0.922005763461196, 0.9392746471246693, 0.9392697624794363, 0.939023084365251, 0.9219755146471597, 0.9390884195706775, 0.9221344679424806, 1.0224049630494314, 0.4415435851762891, 0.4415435851762891, 1.0225687464903277, 1.0224303795698328, 0.6296494569737674, 0.6296494569737674, 1.0226540930698855, 0.9390586475559173, 0.9390194971067364, 0.9219796831366116, 0.9222245989878854, 0.9222719665107063, 0.9390556280616915, 1.0223899480577248], \"Term\": [\"arrive\", \"arrived\", \"broke\", \"buy\", \"customer\", \"damaged\", \"described\", \"disappointed\", \"fine\", \"item\", \"long\", \"one\", \"poor\", \"product\", \"product\", \"quality\", \"recommend\", \"service\", \"service\", \"terrible\", \"time\", \"took\", \"unhappy\", \"unhelpful\", \"use\", \"work\", \"would\"]}, \"R\": 25, \"lambda.step\": 0.01, \"plot.opts\": {\"xlab\": \"PC1\", \"ylab\": \"PC2\"}, \"topic.order\": [4, 1, 2, 3]};\n",
       "\n",
       "function LDAvis_load_lib(url, callback){\n",
       "  var s = document.createElement('script');\n",
       "  s.src = url;\n",
       "  s.async = true;\n",
       "  s.onreadystatechange = s.onload = callback;\n",
       "  s.onerror = function(){console.warn(\"failed to load library \" + url);};\n",
       "  document.getElementsByTagName(\"head\")[0].appendChild(s);\n",
       "}\n",
       "\n",
       "if(typeof(LDAvis) !== \"undefined\"){\n",
       "   // already loaded: just create the visualization\n",
       "   !function(LDAvis){\n",
       "       new LDAvis(\"#\" + \"ldavis_el49511403710055007689572064561\", ldavis_el49511403710055007689572064561_data);\n",
       "   }(LDAvis);\n",
       "}else if(typeof define === \"function\" && define.amd){\n",
       "   // require.js is available: use it to load d3/LDAvis\n",
       "   require.config({paths: {d3: \"https://d3js.org/d3.v5\"}});\n",
       "   require([\"d3\"], function(d3){\n",
       "      window.d3 = d3;\n",
       "      LDAvis_load_lib(\"https://cdn.jsdelivr.net/gh/bmabey/pyLDAvis@3.4.0/pyLDAvis/js/ldavis.v3.0.0.js\", function(){\n",
       "        new LDAvis(\"#\" + \"ldavis_el49511403710055007689572064561\", ldavis_el49511403710055007689572064561_data);\n",
       "      });\n",
       "    });\n",
       "}else{\n",
       "    // require.js not available: dynamically load d3 & LDAvis\n",
       "    LDAvis_load_lib(\"https://d3js.org/d3.v5.js\", function(){\n",
       "         LDAvis_load_lib(\"https://cdn.jsdelivr.net/gh/bmabey/pyLDAvis@3.4.0/pyLDAvis/js/ldavis.v3.0.0.js\", function(){\n",
       "                 new LDAvis(\"#\" + \"ldavis_el49511403710055007689572064561\", ldavis_el49511403710055007689572064561_data);\n",
       "            })\n",
       "         });\n",
       "}\n",
       "</script>"
      ],
      "text/plain": [
       "<IPython.core.display.HTML object>"
      ]
     },
     "execution_count": 73,
     "metadata": {},
     "output_type": "execute_result"
    }
   ],
   "source": [
    "from IPython.display import display, HTML\n",
    "from IPython.display import IFrame\n",
    "HTML(filename=\"../output/task4/ldavis.html\")"
   ]
  },
  {
   "cell_type": "code",
   "execution_count": 96,
   "id": "bde779c3",
   "metadata": {},
   "outputs": [
    {
     "data": {
      "text/html": [
       "<div>\n",
       "<style scoped>\n",
       "    .dataframe tbody tr th:only-of-type {\n",
       "        vertical-align: middle;\n",
       "    }\n",
       "\n",
       "    .dataframe tbody tr th {\n",
       "        vertical-align: top;\n",
       "    }\n",
       "\n",
       "    .dataframe thead th {\n",
       "        text-align: right;\n",
       "    }\n",
       "</style>\n",
       "<table border=\"1\" class=\"dataframe\">\n",
       "  <thead>\n",
       "    <tr style=\"text-align: right;\">\n",
       "      <th></th>\n",
       "      <th>review_text</th>\n",
       "      <th>topic_lda</th>\n",
       "      <th>topic_dist</th>\n",
       "    </tr>\n",
       "  </thead>\n",
       "  <tbody>\n",
       "    <tr>\n",
       "      <th>0</th>\n",
       "      <td>Terrible service, will not buy from here again.</td>\n",
       "      <td>3</td>\n",
       "      <td>[(0, 0.06255188), (1, 0.06253709), (2, 0.81129336), (3, 0.06361768)]</td>\n",
       "    </tr>\n",
       "    <tr>\n",
       "      <th>3</th>\n",
       "      <td>Very disappointed with the product, not as described.</td>\n",
       "      <td>1</td>\n",
       "      <td>[(0, 0.80972797), (1, 0.06507877), (2, 0.062611125), (3, 0.0625821)]</td>\n",
       "    </tr>\n",
       "    <tr>\n",
       "      <th>5</th>\n",
       "      <td>The item arrived damaged and customer service was unhelpful.</td>\n",
       "      <td>4</td>\n",
       "      <td>[(0, 0.035751935), (1, 0.03574129), (2, 0.036286626), (3, 0.89222014)]</td>\n",
       "    </tr>\n",
       "    <tr>\n",
       "      <th>12</th>\n",
       "      <td>Poor quality, would not recommend.</td>\n",
       "      <td>1</td>\n",
       "      <td>[(0, 0.84980905), (1, 0.05004198), (2, 0.050085414), (3, 0.05006354)]</td>\n",
       "    </tr>\n",
       "    <tr>\n",
       "      <th>14</th>\n",
       "      <td>The product works fine, but took a long time to arrive.</td>\n",
       "      <td>2</td>\n",
       "      <td>[(0, 0.031470414), (1, 0.9059139), (2, 0.031316362), (3, 0.031299297)]</td>\n",
       "    </tr>\n",
       "    <tr>\n",
       "      <th>15</th>\n",
       "      <td>The product broke after one use, very unhappy.</td>\n",
       "      <td>2</td>\n",
       "      <td>[(0, 0.04205095), (1, 0.874464), (2, 0.041753687), (3, 0.041731343)]</td>\n",
       "    </tr>\n",
       "  </tbody>\n",
       "</table>\n",
       "</div>"
      ],
      "text/plain": [
       "                                                     review_text  topic_lda  \\\n",
       "0                Terrible service, will not buy from here again.          3   \n",
       "3          Very disappointed with the product, not as described.          1   \n",
       "5   The item arrived damaged and customer service was unhelpful.          4   \n",
       "12                            Poor quality, would not recommend.          1   \n",
       "14       The product works fine, but took a long time to arrive.          2   \n",
       "15                The product broke after one use, very unhappy.          2   \n",
       "\n",
       "                                                                topic_dist  \n",
       "0     [(0, 0.06255188), (1, 0.06253709), (2, 0.81129336), (3, 0.06361768)]  \n",
       "3     [(0, 0.80972797), (1, 0.06507877), (2, 0.062611125), (3, 0.0625821)]  \n",
       "5   [(0, 0.035751935), (1, 0.03574129), (2, 0.036286626), (3, 0.89222014)]  \n",
       "12   [(0, 0.84980905), (1, 0.05004198), (2, 0.050085414), (3, 0.05006354)]  \n",
       "14  [(0, 0.031470414), (1, 0.9059139), (2, 0.031316362), (3, 0.031299297)]  \n",
       "15    [(0, 0.04205095), (1, 0.874464), (2, 0.041753687), (3, 0.041731343)]  "
      ]
     },
     "execution_count": 96,
     "metadata": {},
     "output_type": "execute_result"
    }
   ],
   "source": [
    "def get_dominant_topic(lda_model, corpus):\n",
    "    \"\"\"\n",
    "    Determines the dominant topic for a given document.\n",
    "\n",
    "    Args:\n",
    "        lda_model: Trained LDA model.\n",
    "        corpus: Document-term matrix.\n",
    "\n",
    "    Returns:\n",
    "        Dominant topic number.\n",
    "    \"\"\"\n",
    "    topic_dist = lda_model[corpus]\n",
    "    dominant_topic = max(topic_dist, key=lambda x: x[1])[0]\n",
    "    return dominant_topic\n",
    "\n",
    "\n",
    "def get_topic_dist(lda_model, corpus):\n",
    "    \"\"\"\n",
    "    Determines the dominant topic for a given document.\n",
    "\n",
    "    Args:\n",
    "        lda_model: Trained LDA model.\n",
    "        corpus: Document-term matrix.\n",
    "\n",
    "    Returns:\n",
    "        Dominant topic number.\n",
    "    \"\"\"\n",
    "    topic_dist = lda_model[corpus]\n",
    "    return topic_dist\n",
    "\n",
    "df_negative['topic_dist'] = df_negative['tokens'].apply(lambda x: get_topic_dist(lda_model, id2word.doc2bow(x)))\n",
    "df_negative['topic_lda'] = df_negative['tokens'].apply(lambda x: get_dominant_topic(lda_model, id2word.doc2bow(x))+1) # topic from 1 to num_topics_lda\n",
    "df_negative[[\"review_text\", \"topic_lda\", \"topic_dist\"]].drop_duplicates([\"review_text\", \"topic_lda\"])"
   ]
  },
  {
   "cell_type": "markdown",
   "id": "2daaf204",
   "metadata": {},
   "source": [
    "Future work:\n",
    "\n",
    "- Tune parameters (number of topics, preprocessing steps, etc.)\n",
    "- Consider using more advanced topic modeling techniques like Non-Negative Matrix Factorization (NMF) or Latent Semantic Analysis (LSA).\n"
   ]
  },
  {
   "cell_type": "markdown",
   "id": "8da77ac6",
   "metadata": {},
   "source": [
    "## Large language model"
   ]
  },
  {
   "cell_type": "code",
   "execution_count": 75,
   "id": "75d0fb49",
   "metadata": {},
   "outputs": [],
   "source": [
    "import os\n",
    "os.environ[\"http_proxy\"]=\"\"\n",
    "os.environ[\"https_proxy\"]=\"\""
   ]
  },
  {
   "cell_type": "markdown",
   "id": "450b0da7",
   "metadata": {},
   "source": [
    "### Generate embedding for each review"
   ]
  },
  {
   "cell_type": "code",
   "execution_count": 82,
   "id": "5bc8498e",
   "metadata": {},
   "outputs": [
    {
     "name": "stdout",
     "output_type": "stream",
     "text": [
      "CPU times: user 365 ms, sys: 49.7 ms, total: 414 ms\n",
      "Wall time: 825 ms\n"
     ]
    }
   ],
   "source": [
    "%%time\n",
    "# ~40 seconds to run\n",
    "\n",
    "\n",
    "text_column = 'review_text'\n",
    "\n",
    "\n",
    "\n",
    "'''\n",
    "Use a pre-trained LLM like DistilBERT to generate dense vector representations (embeddings) for each review.\n",
    "function tokenizes the input texts, generates embeddings using a pre-trained model, \n",
    "and averages the token embeddings to produce a single vector representation for each review.\n",
    "''' \n",
    "def get_embeddings(texts, model, tokenizer):\n",
    "    # Code extracted from Hugging face web - https://huggingface.co/distilbert/distilbert-base-uncased\n",
    "    # Load pre-trained model and tokenizer\n",
    "    tokenizer = DistilBertTokenizer.from_pretrained('distilbert-base-uncased')\n",
    "    model = DistilBertModel.from_pretrained('distilbert-base-uncased')\n",
    "    inputs = tokenizer(texts, padding=True, truncation=True, return_tensors=\"pt\")\n",
    "    with torch.no_grad():\n",
    "        outputs = model(**inputs)\n",
    "    return outputs.last_hidden_state.mean(dim=1).numpy()\n",
    "\n",
    "# Generate embeddings for the reviews\n",
    "embeddings = get_embeddings(df_negative[text_column].tolist(), model, tokenizer)\n",
    "\n"
   ]
  },
  {
   "cell_type": "markdown",
   "id": "f9266687",
   "metadata": {},
   "source": [
    "### Apply the AglomerativeClustering algorithm \n",
    "\n",
    "Run Aglomerative clustering algorithm to group reviews based on their similarity in the embedding space. "
   ]
  },
  {
   "cell_type": "code",
   "execution_count": 84,
   "id": "cfcd55b8",
   "metadata": {},
   "outputs": [
    {
     "data": {
      "image/png": "[encoded data removed]",
      "text/plain": [
       "<Figure size 500x300 with 1 Axes>"
      ]
     },
     "metadata": {},
     "output_type": "display_data"
    },
    {
     "data": {
      "text/html": [
       "<div>\n",
       "<style scoped>\n",
       "    .dataframe tbody tr th:only-of-type {\n",
       "        vertical-align: middle;\n",
       "    }\n",
       "\n",
       "    .dataframe tbody tr th {\n",
       "        vertical-align: top;\n",
       "    }\n",
       "\n",
       "    .dataframe thead th {\n",
       "        text-align: right;\n",
       "    }\n",
       "</style>\n",
       "<table border=\"1\" class=\"dataframe\">\n",
       "  <thead>\n",
       "    <tr style=\"text-align: right;\">\n",
       "      <th></th>\n",
       "      <th>review_text</th>\n",
       "      <th>topic_llm</th>\n",
       "    </tr>\n",
       "  </thead>\n",
       "  <tbody>\n",
       "    <tr>\n",
       "      <th>0</th>\n",
       "      <td>Terrible service, will not buy from here again.</td>\n",
       "      <td>1</td>\n",
       "    </tr>\n",
       "    <tr>\n",
       "      <th>3</th>\n",
       "      <td>Very disappointed with the product, not as described.</td>\n",
       "      <td>2</td>\n",
       "    </tr>\n",
       "    <tr>\n",
       "      <th>5</th>\n",
       "      <td>The item arrived damaged and customer service was unhelpful.</td>\n",
       "      <td>3</td>\n",
       "    </tr>\n",
       "    <tr>\n",
       "      <th>12</th>\n",
       "      <td>Poor quality, would not recommend.</td>\n",
       "      <td>1</td>\n",
       "    </tr>\n",
       "    <tr>\n",
       "      <th>14</th>\n",
       "      <td>The product works fine, but took a long time to arrive.</td>\n",
       "      <td>4</td>\n",
       "    </tr>\n",
       "    <tr>\n",
       "      <th>15</th>\n",
       "      <td>The product broke after one use, very unhappy.</td>\n",
       "      <td>2</td>\n",
       "    </tr>\n",
       "  </tbody>\n",
       "</table>\n",
       "</div>"
      ],
      "text/plain": [
       "                                                     review_text  topic_llm\n",
       "0                Terrible service, will not buy from here again.          1\n",
       "3          Very disappointed with the product, not as described.          2\n",
       "5   The item arrived damaged and customer service was unhelpful.          3\n",
       "12                            Poor quality, would not recommend.          1\n",
       "14       The product works fine, but took a long time to arrive.          4\n",
       "15                The product broke after one use, very unhappy.          2"
      ]
     },
     "execution_count": 84,
     "metadata": {},
     "output_type": "execute_result"
    }
   ],
   "source": [
    "set_link_color_palette([PINK_RGB, 'c', 'y', 'k'])\n",
    "\n",
    "# Apply Hierarchical Clustering\n",
    "hierarchical_cluster = AgglomerativeClustering(distance_threshold=0, n_clusters=None)\n",
    "hierarchical_cluster.fit(embeddings)\n",
    "\n",
    "# Create the linkage matrix\n",
    "Z = linkage(embeddings, \"ward\")\n",
    "\n",
    "\n",
    "# Plot the dendrogram\n",
    "plt.figure(figsize=(5, 3))\n",
    "plt.title('Hierarchical Clustering Dendrogram')\n",
    "dendrogram(Z, labels = df_negative['review_text'].tolist(), leaf_rotation=90., \n",
    "           show_contracted=False, color_threshold=-1, above_threshold_color=PINK_RGB)\n",
    "plt.show()\n",
    "\n",
    "\n",
    "# Decide the number of clusters by cutting the dendrogram\n",
    "num_clusters_llm = 4  # Adjust based on the dendrogram\n",
    "labels = fcluster(Z, 4.11, criterion='distance')\n",
    "df_negative['topic_llm'] = labels\n",
    "\n",
    "df_negative[[\"review_text\", \"topic_llm\"]].drop_duplicates()\n"
   ]
  },
  {
   "cell_type": "markdown",
   "id": "ceff332f",
   "metadata": {},
   "source": [
    "# Results"
   ]
  },
  {
   "cell_type": "code",
   "execution_count": 113,
   "id": "4786661b",
   "metadata": {},
   "outputs": [
    {
     "data": {
      "text/html": [
       "<div>\n",
       "<style scoped>\n",
       "    .dataframe tbody tr th:only-of-type {\n",
       "        vertical-align: middle;\n",
       "    }\n",
       "\n",
       "    .dataframe tbody tr th {\n",
       "        vertical-align: top;\n",
       "    }\n",
       "\n",
       "    .dataframe thead th {\n",
       "        text-align: right;\n",
       "    }\n",
       "</style>\n",
       "<table border=\"1\" class=\"dataframe\">\n",
       "  <thead>\n",
       "    <tr style=\"text-align: right;\">\n",
       "      <th></th>\n",
       "      <th>review_text</th>\n",
       "      <th>topic_lda</th>\n",
       "      <th>topic_llm</th>\n",
       "    </tr>\n",
       "  </thead>\n",
       "  <tbody>\n",
       "    <tr>\n",
       "      <th>0</th>\n",
       "      <td>Terrible service, will not buy from here again.</td>\n",
       "      <td>3</td>\n",
       "      <td>1</td>\n",
       "    </tr>\n",
       "    <tr>\n",
       "      <th>3</th>\n",
       "      <td>Very disappointed with the product, not as described.</td>\n",
       "      <td>1</td>\n",
       "      <td>2</td>\n",
       "    </tr>\n",
       "    <tr>\n",
       "      <th>5</th>\n",
       "      <td>The item arrived damaged and customer service was unhelpful.</td>\n",
       "      <td>4</td>\n",
       "      <td>3</td>\n",
       "    </tr>\n",
       "    <tr>\n",
       "      <th>12</th>\n",
       "      <td>Poor quality, would not recommend.</td>\n",
       "      <td>1</td>\n",
       "      <td>1</td>\n",
       "    </tr>\n",
       "    <tr>\n",
       "      <th>14</th>\n",
       "      <td>The product works fine, but took a long time to arrive.</td>\n",
       "      <td>2</td>\n",
       "      <td>4</td>\n",
       "    </tr>\n",
       "    <tr>\n",
       "      <th>15</th>\n",
       "      <td>The product broke after one use, very unhappy.</td>\n",
       "      <td>2</td>\n",
       "      <td>2</td>\n",
       "    </tr>\n",
       "  </tbody>\n",
       "</table>\n",
       "</div>"
      ],
      "text/plain": [
       "                                                     review_text  topic_lda  \\\n",
       "0                Terrible service, will not buy from here again.          3   \n",
       "3          Very disappointed with the product, not as described.          1   \n",
       "5   The item arrived damaged and customer service was unhelpful.          4   \n",
       "12                            Poor quality, would not recommend.          1   \n",
       "14       The product works fine, but took a long time to arrive.          2   \n",
       "15                The product broke after one use, very unhappy.          2   \n",
       "\n",
       "    topic_llm  \n",
       "0           1  \n",
       "3           2  \n",
       "5           3  \n",
       "12          1  \n",
       "14          4  \n",
       "15          2  "
      ]
     },
     "execution_count": 113,
     "metadata": {},
     "output_type": "execute_result"
    }
   ],
   "source": [
    "df_results=df_negative[[\"review_text\", \"topic_lda\", \"topic_llm\"]].drop_duplicates()\n",
    "df_results"
   ]
  },
  {
   "cell_type": "markdown",
   "id": "7f897607",
   "metadata": {},
   "source": [
    "The assignment made by LDA is a bit more confusing than with LLM. With this second method, it is easier to find the meaning of the topics."
   ]
  },
  {
   "cell_type": "markdown",
   "id": "9b1285a3",
   "metadata": {},
   "source": [
    "## List of reviews grouped by topic"
   ]
  },
  {
   "cell_type": "code",
   "execution_count": 114,
   "id": "c6d3b038",
   "metadata": {},
   "outputs": [],
   "source": [
    "def list_reviews_by_topic(df, review_col, topic_col):\n",
    "        for topic, reviews in df_negative.drop_duplicates(\"review_text\").groupby(topic_col):\n",
    "            print(f\"Topic {topic}:\")\n",
    "            for review in df_negative[df_negative[topic_col] == topic]['review_text']:\n",
    "                print(f\" - {review}\")"
   ]
  },
  {
   "cell_type": "markdown",
   "id": "be3bca78",
   "metadata": {},
   "source": [
    "### LDA \n",
    "LDA classification is a little bit messy, mixing service, product and delivery issues."
   ]
  },
  {
   "cell_type": "code",
   "execution_count": 115,
   "id": "e48e06fd",
   "metadata": {},
   "outputs": [
    {
     "name": "stdout",
     "output_type": "stream",
     "text": [
      "Topic 1:\n",
      " - Very disappointed with the product, not as described.\n",
      " - Poor quality, would not recommend.\n",
      "Topic 2:\n",
      " - The product works fine, but took a long time to arrive.\n",
      " - The product broke after one use, very unhappy.\n",
      "Topic 3:\n",
      " - Terrible service, will not buy from here again.\n",
      "Topic 4:\n",
      " - The item arrived damaged and customer service was unhelpful.\n"
     ]
    }
   ],
   "source": [
    "list_reviews_by_topic(df_negative, review_col=\"review_text\", topic_col=\"topic_lda\")"
   ]
  },
  {
   "cell_type": "markdown",
   "id": "8e34c18f",
   "metadata": {},
   "source": [
    "### LLM"
   ]
  },
  {
   "cell_type": "markdown",
   "id": "04aab461",
   "metadata": {},
   "source": [
    "Easier to interprete"
   ]
  },
  {
   "cell_type": "code",
   "execution_count": 116,
   "id": "a272e1ee",
   "metadata": {},
   "outputs": [
    {
     "name": "stdout",
     "output_type": "stream",
     "text": [
      "Topic 1:\n",
      " - Terrible service, will not buy from here again.\n",
      " - Poor quality, would not recommend.\n",
      "Topic 2:\n",
      " - Very disappointed with the product, not as described.\n",
      " - The product broke after one use, very unhappy.\n",
      "Topic 3:\n",
      " - The item arrived damaged and customer service was unhelpful.\n",
      "Topic 4:\n",
      " - The product works fine, but took a long time to arrive.\n"
     ]
    }
   ],
   "source": [
    "list_reviews_by_topic(df_negative, review_col=\"review_text\", topic_col=\"topic_llm\")"
   ]
  },
  {
   "cell_type": "code",
   "execution_count": null,
   "id": "52bd7efe",
   "metadata": {},
   "outputs": [],
   "source": [
    "\n",
    "def create_wordcloud(df, text_column, topic_column, title):\n",
    "\n",
    "    fig=plt.figure(figsize=(12, 6))\n",
    "\n",
    "    num_topics = df[topic_column].max()\n",
    "    n_cols=2\n",
    "    n_rows = int(np.floor(num_topics/n_cols))\n",
    "\n",
    "    for topic, reviews in df.drop_duplicates(text_column).groupby(topic_column):\n",
    "        text = ' '.join(reviews[text_column])\n",
    "        wordcloud_topic = WordCloud(width=800, height=400).generate(' '.join(reviews[text_column]))\n",
    "        plt.subplot(2, n_rows, topic)\n",
    "        plt.imshow(wordcloud_topic, interpolation='bilinear', cmap=\"summer\")\n",
    "        plt.axis('off')\n",
    "        plt.title('Topic '+str(topic))\n",
    "\n",
    "    plt.show()\n",
    "\n",
    "    fig.savefig(\"../output/task4/wordcloud_{}.png\".format(title))\n",
    "\n"
   ]
  },
  {
   "cell_type": "code",
   "execution_count": null,
   "id": "1319ca89",
   "metadata": {},
   "outputs": [],
   "source": [
    "create_wordcloud(df_negative, text_column=\"preprocessed_review\", topic_column=\"topic_lda\", title=\"LDA\")\n",
    "create_wordcloud(df_negative, text_column=\"preprocessed_review\", topic_column=\"topic_llm\", title=\"LLM\")"
   ]
  },
  {
   "cell_type": "markdown",
   "id": "89773f0d",
   "metadata": {},
   "source": [
    "## Conclusions\n",
    "\n",
    "From LLM model:"
   ]
  },
  {
   "cell_type": "markdown",
   "id": "19b5dc00",
   "metadata": {},
   "source": [
    "- Topic 1 \n",
    "   * corresponds to the customers who won't recommend buying again --> DETRACTORS\n",
    "- Topic 2:\n",
    "   * Product Quality issues\n",
    "   * Negative Feedback on Product Description\n",
    "- Topic 3:\n",
    "  * Customer service issues\n",
    "- Topic 4:\n",
    "  * Delivery and Shipping Issues\n"
   ]
  },
  {
   "cell_type": "markdown",
   "id": "0a10de69",
   "metadata": {},
   "source": [
    "### Actionable insights based on the analysis."
   ]
  },
  {
   "cell_type": "markdown",
   "id": "8c820ba2",
   "metadata": {},
   "source": [
    "Based on the identified topics and sentiments, here are some actionable insights for the business:\n",
    "\n",
    "**Improve Customer Service:**\n",
    "- Conduct training sessions for customer service representatives to improve their communication skills and responsiveness.\n",
    "- Implement a better tracking system for customer inquiries to ensure timely responses.\n",
    "\n",
    "**Enhance Product Descriptions:**\n",
    "- Review and update product descriptions to ensure they accurately reflect the product features and quality.\n",
    "- Include more detailed images and customer reviews to set realistic expectations.\n",
    "\n",
    "**Address Product Quality Issues:**\n",
    "- Investigate and address any recurring quality issues in the products.\n",
    "- Consider quality checks and improvements in the production process.\n",
    "\n",
    "\n",
    "**Streamline Delivery and Shipping:**\n",
    "- Partner with reliable shipping companies to ensure timely and accurate deliveries.\n",
    "- Implement a tracking system for customers to monitor their orders in real-time.\n",
    "\n",
    "Additionally, compare topics over time: Detect trends and emerging issues.\n"
   ]
  }
 ],
 "metadata": {
  "kernelspec": {
   "display_name": "Python 3 (ipykernel)",
   "language": "python",
   "name": "python3"
  },
  "language_info": {
   "codemirror_mode": {
    "name": "ipython",
    "version": 3
   },
   "file_extension": ".py",
   "mimetype": "text/x-python",
   "name": "python",
   "nbconvert_exporter": "python",
   "pygments_lexer": "ipython3",
   "version": "3.8.5"
  },
  "toc": {
   "base_numbering": 1,
   "nav_menu": {},
   "number_sections": true,
   "sideBar": true,
   "skip_h1_title": false,
   "title_cell": "Table of Contents",
   "title_sidebar": "Contents",
   "toc_cell": false,
   "toc_position": {
    "height": "calc(100% - 180px)",
    "left": "10px",
    "top": "150px",
    "width": "204px"
   },
   "toc_section_display": true,
   "toc_window_display": true
  }
 },
 "nbformat": 4,
 "nbformat_minor": 5
}
