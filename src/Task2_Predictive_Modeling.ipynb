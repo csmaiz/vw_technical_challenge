{
 "cells": [
  {
   "cell_type": "markdown",
   "id": "be7bdef0",
   "metadata": {},
   "source": [
    "<span style=\"color:#000000; font-size:1.2em; text-align:right\">Data Scientist II Technical Challenge</span>\n",
    "\n",
    "<span style=\"color:#e01760; font-size:2em; align=center\">Task 2: Predictive Modeling</span>\n",
    "\n",
    "<font color=\"#6E6E6E\" align=\"center\">Cristina Sánchez Maíz | csmaiz@gmail.com | [LinkedIn](https://www.linkedin.com/in/csmaiz/) </font> "
   ]
  },
  {
   "cell_type": "markdown",
   "id": "a10d32d5",
   "metadata": {},
   "source": [
    "**Tasks:**\n",
    "\n",
    "Using the cleaned Customer Transactions dataset from Task 1:\n",
    "\n",
    "- Identify a target variable for prediction (e.g., predicting customer churn, transaction amount).\n",
    "- Develop a predictive model using an appropriate machine learning algorithm.\n",
    "- Evaluate the model's performance using relevant metrics (e.g., accuracy,\n",
    "precision, recall, RMSE). \n",
    "\n",
    "**Deliverables:**\n",
    "- Explanation of the chosen target variable and model.\n",
    "- Model training and evaluation process.\n",
    "- Performance metrics and interpretation."
   ]
  },
  {
   "cell_type": "markdown",
   "id": "deb52cac",
   "metadata": {},
   "source": [
    "# Import libraries"
   ]
  },
  {
   "cell_type": "code",
   "execution_count": 1,
   "id": "facc5689",
   "metadata": {},
   "outputs": [],
   "source": [
    "%matplotlib inline\n",
    "import pandas as pd \n",
    "import numpy as np\n",
    "import matplotlib\n",
    "import matplotlib.pyplot as plt\n",
    "import seaborn as sns\n",
    "import missingno as msno\n",
    "import datetime as dt"
   ]
  },
  {
   "cell_type": "markdown",
   "id": "808e0c10",
   "metadata": {},
   "source": [
    "# Load the dataset"
   ]
  },
  {
   "cell_type": "code",
   "execution_count": 2,
   "id": "49c3abfd",
   "metadata": {},
   "outputs": [
    {
     "data": {
      "text/html": [
       "<div>\n",
       "<style scoped>\n",
       "    .dataframe tbody tr th:only-of-type {\n",
       "        vertical-align: middle;\n",
       "    }\n",
       "\n",
       "    .dataframe tbody tr th {\n",
       "        vertical-align: top;\n",
       "    }\n",
       "\n",
       "    .dataframe thead th {\n",
       "        text-align: right;\n",
       "    }\n",
       "</style>\n",
       "<table border=\"1\" class=\"dataframe\">\n",
       "  <thead>\n",
       "    <tr style=\"text-align: right;\">\n",
       "      <th></th>\n",
       "      <th>customer_id</th>\n",
       "      <th>transaction_id</th>\n",
       "      <th>transaction_date</th>\n",
       "      <th>amount</th>\n",
       "      <th>product_category</th>\n",
       "      <th>payment_method</th>\n",
       "    </tr>\n",
       "  </thead>\n",
       "  <tbody>\n",
       "    <tr>\n",
       "      <th>0</th>\n",
       "      <td>2</td>\n",
       "      <td>1002</td>\n",
       "      <td>2024-04-06</td>\n",
       "      <td>1493.880878</td>\n",
       "      <td>clothing</td>\n",
       "      <td>paypal</td>\n",
       "    </tr>\n",
       "    <tr>\n",
       "      <th>1</th>\n",
       "      <td>44</td>\n",
       "      <td>1003</td>\n",
       "      <td>2023-09-22</td>\n",
       "      <td>1323.237903</td>\n",
       "      <td>electronics</td>\n",
       "      <td>debit_card</td>\n",
       "    </tr>\n",
       "    <tr>\n",
       "      <th>2</th>\n",
       "      <td>6</td>\n",
       "      <td>1004</td>\n",
       "      <td>2024-01-20</td>\n",
       "      <td>647.237864</td>\n",
       "      <td>clothing</td>\n",
       "      <td>debit_card</td>\n",
       "    </tr>\n",
       "    <tr>\n",
       "      <th>3</th>\n",
       "      <td>46</td>\n",
       "      <td>1005</td>\n",
       "      <td>2023-08-28</td>\n",
       "      <td>1385.696166</td>\n",
       "      <td>groceries</td>\n",
       "      <td>debit_card</td>\n",
       "    </tr>\n",
       "    <tr>\n",
       "      <th>4</th>\n",
       "      <td>43</td>\n",
       "      <td>1006</td>\n",
       "      <td>2023-08-04</td>\n",
       "      <td>1149.766566</td>\n",
       "      <td>groceries</td>\n",
       "      <td>credit_card</td>\n",
       "    </tr>\n",
       "    <tr>\n",
       "      <th>5</th>\n",
       "      <td>18</td>\n",
       "      <td>1007</td>\n",
       "      <td>2024-04-02</td>\n",
       "      <td>728.526325</td>\n",
       "      <td>electronics</td>\n",
       "      <td>debit_card</td>\n",
       "    </tr>\n",
       "    <tr>\n",
       "      <th>6</th>\n",
       "      <td>8</td>\n",
       "      <td>1008</td>\n",
       "      <td>2024-02-06</td>\n",
       "      <td>1331.612563</td>\n",
       "      <td>electronics</td>\n",
       "      <td>paypal</td>\n",
       "    </tr>\n",
       "    <tr>\n",
       "      <th>7</th>\n",
       "      <td>57</td>\n",
       "      <td>1009</td>\n",
       "      <td>2023-12-13</td>\n",
       "      <td>1293.616488</td>\n",
       "      <td>electronics</td>\n",
       "      <td>debit_card</td>\n",
       "    </tr>\n",
       "    <tr>\n",
       "      <th>8</th>\n",
       "      <td>65</td>\n",
       "      <td>1010</td>\n",
       "      <td>2023-10-17</td>\n",
       "      <td>914.013631</td>\n",
       "      <td>electronics</td>\n",
       "      <td>debit_card</td>\n",
       "    </tr>\n",
       "    <tr>\n",
       "      <th>9</th>\n",
       "      <td>66</td>\n",
       "      <td>1011</td>\n",
       "      <td>2023-10-31</td>\n",
       "      <td>1011.646799</td>\n",
       "      <td>electronics</td>\n",
       "      <td>debit_card</td>\n",
       "    </tr>\n",
       "  </tbody>\n",
       "</table>\n",
       "</div>"
      ],
      "text/plain": [
       "   customer_id  transaction_id transaction_date       amount product_category  \\\n",
       "0            2            1002       2024-04-06  1493.880878         clothing   \n",
       "1           44            1003       2023-09-22  1323.237903      electronics   \n",
       "2            6            1004       2024-01-20   647.237864         clothing   \n",
       "3           46            1005       2023-08-28  1385.696166        groceries   \n",
       "4           43            1006       2023-08-04  1149.766566        groceries   \n",
       "5           18            1007       2024-04-02   728.526325      electronics   \n",
       "6            8            1008       2024-02-06  1331.612563      electronics   \n",
       "7           57            1009       2023-12-13  1293.616488      electronics   \n",
       "8           65            1010       2023-10-17   914.013631      electronics   \n",
       "9           66            1011       2023-10-31  1011.646799      electronics   \n",
       "\n",
       "  payment_method  \n",
       "0         paypal  \n",
       "1     debit_card  \n",
       "2     debit_card  \n",
       "3     debit_card  \n",
       "4    credit_card  \n",
       "5     debit_card  \n",
       "6         paypal  \n",
       "7     debit_card  \n",
       "8     debit_card  \n",
       "9     debit_card  "
      ]
     },
     "execution_count": 2,
     "metadata": {},
     "output_type": "execute_result"
    }
   ],
   "source": [
    "df_orig = pd.read_csv(\"../output/part1/transactions_cleaned.csv\",delimiter=\",\")\n",
    "df_orig.head(10)"
   ]
  },
  {
   "cell_type": "markdown",
   "id": "dfa908b4",
   "metadata": {},
   "source": [
    "<div class=\"alert alert-block alert-warning\">\n",
    "<img src=\"./images/warning.png\" align=\"left\" style=\"float\" width=\"40\">\n",
    "\n",
    "<b>Comments:</b> \n",
    "- \"202307\" only registered 3 transactions. I discard them.\n",
    "</div>"
   ]
  },
  {
   "cell_type": "code",
   "execution_count": 3,
   "id": "d896abca",
   "metadata": {},
   "outputs": [],
   "source": [
    "# Remove entries of July 2023\n",
    "df_orig[\"transaction_date\"] = df_orig[\"transaction_date\"].apply(lambda dd: dt.datetime.strptime(dd, \"%Y-%m-%d\"))\n",
    "df_orig.drop(df_orig[df_orig[\"transaction_date\"].dt.strftime(\"%Y%m\") == \"202307\"].index, inplace=True)"
   ]
  },
  {
   "cell_type": "markdown",
   "id": "8c3f88a9",
   "metadata": {},
   "source": [
    "# Design the predictive model"
   ]
  },
  {
   "cell_type": "markdown",
   "id": "4ede2dae",
   "metadata": {},
   "source": [
    "<img src=\"../images/predictive_model.png\" align=\"center\" style=\"float\">\n"
   ]
  },
  {
   "cell_type": "markdown",
   "id": "ba7d57cb",
   "metadata": {},
   "source": [
    "## Goal\n",
    "\n",
    "\n",
    "The goal is to build a predictive model with the following characteristics:\n",
    "\n",
    "\n",
    "- Target variable (binary):\n",
    "    * 1: if the customer will register at least a transaction next month\n",
    "    * 0: otherwise\n",
    "\n",
    "- Features: \n",
    "    * monthly number of transactions for previous N months.  \n",
    "    * monthly amount for previous N months. \n",
    "\n",
    "\n",
    "Given the amount and the number of transactions in months M, M-1, ...M-N we want to predict for each customer if they are going to make a transaction in month M+1\n",
    "\n",
    "\n",
    "## Business justification\n",
    "\n",
    "Customers predicted to not make a transaction can be offered discounts or incentives to encourage purchases.\n"
   ]
  },
  {
   "cell_type": "markdown",
   "id": "a512118c",
   "metadata": {},
   "source": [
    "# Feature Engineering "
   ]
  },
  {
   "cell_type": "markdown",
   "id": "c0ffa55a",
   "metadata": {},
   "source": [
    "Build features and target for predictive modeling\n",
    "\n",
    "Note: I discarded `customer_age` and `customer_income` in Part1 since it does not seem coherent to have more than one customer_age and customer_income for a same customer_id. I won't use this information in this task.\n"
   ]
  },
  {
   "cell_type": "code",
   "execution_count": 4,
   "id": "6c7f5300",
   "metadata": {},
   "outputs": [],
   "source": [
    "def build_dataset_for_predictions(df, yearmonth, prev_months_depth=5, rolling_depth=3):\n",
    "    #df[\"transaction_date\"] = df[\"transaction_date\"].apply(lambda dd: dt.datetime.strptime(dd, \"%Y-%m-%d\"))\n",
    "    df['yearmonth'] = df['transaction_date'].apply(lambda dd: dd.strftime(\"%Y%m\"))\n",
    "    df_yearmonth = df.groupby([\"yearmonth\", \"customer_id\"])[\"amount\"].agg([\"count\", \"sum\"]).reset_index()\n",
    "    df_yearmonth.rename({\"sum\" : \"amount\"}, inplace=True, axis=1)\n",
    "    \n",
    "    # Create a complete DataFrame with all possible customer_id-yearmonth combinations \n",
    "    # and then joining it with our transaction data.\n",
    "    customer_ids = df['customer_id'].unique()\n",
    "    yearmonths = df['yearmonth'].unique()\n",
    "    index = pd.MultiIndex.from_product([customer_ids, yearmonths], names=['customer_id', 'yearmonth'])\n",
    "    df_complete = pd.DataFrame(index=index).reset_index()\n",
    "    \n",
    "    df_yearmonth = df_complete.merge(df_yearmonth, how='left', on=['customer_id', 'yearmonth'])\n",
    "    df_yearmonth['amount'] = df_yearmonth['amount'].fillna(0)\n",
    "    df_yearmonth['count'] = df_yearmonth['count'].fillna(0)\n",
    "    df_yearmonth['has_transaction'] = np.where(df_yearmonth['amount'] > 0,1, 0)\n",
    "    df_yearmonth = df_yearmonth.sort_values([\"customer_id\",\"yearmonth\"])\n",
    "\n",
    "    df_yearmonth['next_month'] = df_yearmonth.groupby('customer_id')['has_transaction'].shift(-1)\n",
    "\n",
    "    # Fill missing values with 0 (meaning no transaction in the next month)\n",
    "    df_yearmonth['next_month'] = df_yearmonth['next_month'].fillna(0)\n",
    "\n",
    "    # Create the target variable\n",
    "    df_yearmonth['target'] = df_yearmonth['next_month']\n",
    "\n",
    "    df_yearmonth['months_with_transactions_past_{}'.format(rolling_depth)] = df_yearmonth.groupby('customer_id')['has_transaction'].rolling(window=rolling_depth).sum().reset_index(level=0, drop=True)\n",
    "\n",
    "\n",
    "    df_yearmonth=df_yearmonth.fillna(0)\n",
    "    df_yearmonth = df_yearmonth.drop([\"next_month\", \"has_transaction\"], axis=1, errors=\"ignore\")\n",
    "\n",
    "    for dd in range(1,prev_months_depth+1):\n",
    "        df_yearmonth['prev_{}_month_transactions'.format(dd)] = df_yearmonth.groupby('customer_id')['count'].shift(dd).fillna(0)\n",
    "        df_yearmonth['prev_{}_month_amount'.format(dd)] = df_yearmonth.groupby('customer_id')['amount'].shift(dd).fillna(0)\n",
    "    \n",
    "    return df_yearmonth[df_yearmonth.yearmonth==yearmonth]"
   ]
  },
  {
   "cell_type": "markdown",
   "id": "d0a38aa5",
   "metadata": {},
   "source": []
  },
  {
   "cell_type": "markdown",
   "id": "813722d6",
   "metadata": {},
   "source": [
    "# ML Algorithms"
   ]
  },
  {
   "cell_type": "code",
   "execution_count": 5,
   "id": "f27fb1ea",
   "metadata": {},
   "outputs": [],
   "source": [
    "\n",
    "\n",
    "import pandas as pd\n",
    "from sklearn.model_selection import train_test_split\n",
    "from sklearn.preprocessing import StandardScaler\n",
    "from sklearn.linear_model import LogisticRegression\n",
    "from sklearn.metrics import accuracy_score, confusion_matrix, classification_report, roc_auc_score\n",
    "from sklearn.ensemble import RandomForestClassifier\n",
    "import xgboost as xgb\n",
    "\n",
    "\n",
    "def create_datasets(df, prev_months_depth, rolling_depth):\n",
    "    # Select features and target variable\n",
    "    X = df[ [\"count\", \"amount\"] +\n",
    "        ['prev_{}_month_transactions'.format(dd) for dd in range(1,prev_months_depth+1)] + \n",
    "        ['prev_{}_month_amount'.format(dd) for dd in range(1,prev_months_depth+1)] +\n",
    "          ['months_with_transactions_past_{}'.format(rolling_depth)]]\n",
    "    y = df['target']\n",
    "\n",
    "    # Split data into training and testing sets\n",
    "    X_train, X_test, y_train, y_test = train_test_split(X, y, test_size=0.3, random_state=42)\n",
    "\n",
    "    # Feature scaling (optional, but often improves performance)\n",
    "    scaler = StandardScaler()\n",
    "    X_train = scaler.fit_transform(X_train)\n",
    "    X_test = scaler.transform(X_test)\n",
    "\n",
    "    return X_train, X_test, y_train, y_test, X.columns\n",
    "\n",
    "\n",
    "\n",
    "\n"
   ]
  },
  {
   "cell_type": "markdown",
   "id": "78e706e8",
   "metadata": {},
   "source": [
    "## Logistic Regression"
   ]
  },
  {
   "cell_type": "code",
   "execution_count": 6,
   "id": "cf2a7eba",
   "metadata": {},
   "outputs": [],
   "source": [
    "def run_LR(X_train, y_train, X_test, y_test):\n",
    "    print (\" ------- Building LR model -------\")\n",
    "\n",
    "    # Create a logistic regression model\n",
    "    model = LogisticRegression()\n",
    "\n",
    "    # Train the model\n",
    "    model.fit(X_train, y_train)\n",
    "    \n",
    "    print (\" ------- LR -------\")\n",
    "    auc, accuracy = evaluate_model(model, X_test, y_test)\n",
    "\n",
    "    return model, auc, accuracy"
   ]
  },
  {
   "cell_type": "markdown",
   "id": "65ea5cd4",
   "metadata": {},
   "source": [
    "## Random Forest"
   ]
  },
  {
   "cell_type": "code",
   "execution_count": 78,
   "id": "8dcb5515",
   "metadata": {},
   "outputs": [],
   "source": [
    "    \n",
    "def run_RF(X_train, y_train, X_test, y_test, columns_names):\n",
    "    print (\" ------- Building RF model -------\")\n",
    "\n",
    "    # Create a Random Forest classifier\n",
    "    rf_model = RandomForestClassifier(n_estimators=200, max_depth=5, \n",
    "                                      random_state=42, min_samples_split=3,\n",
    "                                     )\n",
    "\n",
    "    # Train the model\n",
    "    rf_model.fit(X_train, y_train)\n",
    "    \n",
    "    # Assuming you have a trained model and the training data:\n",
    "    y_train_pred_proba = rf_model.predict_proba(X_train)[:, 1]\n",
    "    train_auc = roc_auc_score(y_train, y_train_pred_proba)\n",
    "    print(\"AUC on training set:\", train_auc)\n",
    "\n",
    "    \n",
    "    # Assuming you have a trained Random Forest model named `rf_model`\n",
    "    importances = rf_model.feature_importances_\n",
    "\n",
    "    # Create a DataFrame for better visualization\n",
    "    feature_importances = pd.DataFrame({'feature': columns_names, 'importance': importances})\n",
    "    feature_importances = feature_importances.sort_values('importance', ascending=False)\n",
    "    global_importances = pd.Series(importances, index=columns_names)\n",
    "    global_importances.sort_values(ascending=True, inplace=True)\n",
    "    global_importances.plot.barh(color='green')\n",
    "    plt.xlabel(\"Importance\")\n",
    "    plt.ylabel(\"Feature\")\n",
    "    plt.title(\"Global Feature Importance - Built-in Method\") \n",
    "\n",
    "    auc, accuracy = evaluate_model(rf_model, X_test, y_test)\n",
    "\n",
    "\n",
    "    return rf_model, auc, accuracy"
   ]
  },
  {
   "cell_type": "markdown",
   "id": "6494e189",
   "metadata": {},
   "source": [
    "## XGBoost"
   ]
  },
  {
   "cell_type": "code",
   "execution_count": 72,
   "id": "4d4e0b8b",
   "metadata": {},
   "outputs": [],
   "source": [
    "def run_xgboost(X_train, y_train, X_test, y_test):\n",
    "\n",
    "    print (\" ------- Building XGBOOST model -------\")\n",
    "\n",
    "    # Create an XGBoost classifier\n",
    "    model = xgb.XGBClassifier(\n",
    "        objective='binary:logistic', n_estimators = 200, max_depth=5,  random_state=42, max_bin=2\n",
    "    )\n",
    "\n",
    "    # Train the model\n",
    "    model.fit(X_train, y_train)\n",
    "    \n",
    "    y_train_pred_proba = rf_model.predict_proba(X_train)[:, 1]\n",
    "    train_auc = roc_auc_score(y_train, y_train_pred_proba)\n",
    "    print(\"AUC on training set:\", train_auc)\n",
    "    \n",
    "    auc, accuracy = evaluate_model(model, X_test, y_test)\n",
    "    return model, auc, accuracy"
   ]
  },
  {
   "cell_type": "markdown",
   "id": "af660fe7",
   "metadata": {},
   "source": [
    "## Evaluate model"
   ]
  },
  {
   "cell_type": "code",
   "execution_count": 79,
   "id": "959401fc",
   "metadata": {},
   "outputs": [],
   "source": [
    "    \n",
    "def evaluate_model(model, X_test, y_test):\n",
    "    # Make predictions on the test set\n",
    "    y_pred = model.predict(X_test)\n",
    "\n",
    "    accuracy = accuracy_score(y_test, y_pred)\n",
    "    confusion_mat = confusion_matrix(y_test, y_pred)\n",
    "    classification_rep = classification_report(y_test, y_pred)\n",
    "\n",
    "    print(\"Accuracy:\",  accuracy)\n",
    "    print(\"Confusion Matrix:\\n\", confusion_mat)\n",
    "    print(\"Classification Report:\\n\", classification_rep)\n",
    "\n",
    "    y_pred_proba = model.predict_proba(X_test)[:, 1]\n",
    "\n",
    "    auc = roc_auc_score(y_test, y_pred_proba)\n",
    "    \n",
    "    print(\"AUC:\", auc)\n",
    "    return auc, accuracy"
   ]
  },
  {
   "cell_type": "markdown",
   "id": "12034259",
   "metadata": {},
   "source": [
    "# Training and testing the model"
   ]
  },
  {
   "cell_type": "markdown",
   "id": "7a47e94e",
   "metadata": {},
   "source": [
    "## Create datasets for several dates"
   ]
  },
  {
   "cell_type": "code",
   "execution_count": 111,
   "id": "91a6f211",
   "metadata": {},
   "outputs": [],
   "source": [
    "prev_months_depth=3\n",
    "rolling_depth=2\n",
    "\n",
    "yearmonth  = \"202403\"\n",
    "df_202403 = build_dataset_for_predictions(df_orig, yearmonth, prev_months_depth=prev_months_depth, rolling_depth=rolling_depth)\n",
    "\n",
    "\n",
    "yearmonth  = \"202404\"\n",
    "df_202404 = build_dataset_for_predictions(df_orig, yearmonth, prev_months_depth=prev_months_depth, rolling_depth=rolling_depth)\n",
    "\n",
    "\n",
    "yearmonth  = \"202405\"\n",
    "df_202405 = build_dataset_for_predictions(df_orig, yearmonth, prev_months_depth=prev_months_depth, rolling_depth=rolling_depth)\n",
    "\n",
    "\n",
    "df_202404_05 = pd.concat([df_202403, df_202404, df_202405])"
   ]
  },
  {
   "cell_type": "code",
   "execution_count": null,
   "id": "31a31686",
   "metadata": {},
   "outputs": [],
   "source": [
    "# Checking the balance between positive and negative classes"
   ]
  },
  {
   "cell_type": "code",
   "execution_count": 112,
   "id": "939f8d0b",
   "metadata": {},
   "outputs": [
    {
     "data": {
      "text/plain": [
       "target\n",
       "0.0    50\n",
       "1.0    50\n",
       "Name: target, dtype: int64"
      ]
     },
     "metadata": {},
     "output_type": "display_data"
    },
    {
     "data": {
      "text/plain": [
       "target\n",
       "0.0    46\n",
       "1.0    54\n",
       "Name: target, dtype: int64"
      ]
     },
     "metadata": {},
     "output_type": "display_data"
    },
    {
     "data": {
      "text/plain": [
       "target\n",
       "0.0    46\n",
       "1.0    54\n",
       "Name: target, dtype: int64"
      ]
     },
     "metadata": {},
     "output_type": "display_data"
    },
    {
     "data": {
      "text/plain": [
       "target\n",
       "0.0    142\n",
       "1.0    158\n",
       "Name: target, dtype: int64"
      ]
     },
     "metadata": {},
     "output_type": "display_data"
    }
   ],
   "source": [
    "for df in [df_202403, df_202404, df_202405, df_202404_05]:\n",
    "    display(df.groupby(\"target\")[\"target\"].count())"
   ]
  },
  {
   "cell_type": "markdown",
   "id": "e904f02d",
   "metadata": {},
   "source": [
    "Note: Since the datasets are balanced, accuracy can be a good metric for assesing the model performance, not having to resort to AUC."
   ]
  },
  {
   "cell_type": "markdown",
   "id": "bb3be74a",
   "metadata": {},
   "source": [
    "## Build train and test datasets"
   ]
  },
  {
   "cell_type": "code",
   "execution_count": 113,
   "id": "e30e1497",
   "metadata": {},
   "outputs": [],
   "source": [
    "X_train_202403, X_test_202403, y_train_202403, y_test_202403, columns_names = create_datasets(df_202403, prev_months_depth, rolling_depth)\n",
    "\n",
    "X_train_202404, X_test_202404, y_train_202404, y_test_202404, columns_names = create_datasets(df_202404, prev_months_depth, rolling_depth)\n",
    "X_train_202405, X_test_202405, y_train_202405, y_test_202405, _ = create_datasets(df_202405, prev_months_depth, rolling_depth)\n",
    "X_train_202404_05, X_test_202404_05, y_train_202404_05, y_test_202404_05, _ = create_datasets(df_202404_05, prev_months_depth, rolling_depth)\n"
   ]
  },
  {
   "cell_type": "markdown",
   "id": "c93752f0",
   "metadata": {},
   "source": [
    "## Run models"
   ]
  },
  {
   "cell_type": "code",
   "execution_count": 114,
   "id": "fa8817fc",
   "metadata": {},
   "outputs": [
    {
     "name": "stdout",
     "output_type": "stream",
     "text": [
      " - - - - - 202403 - - - - - -\n",
      " ------- Building LR model -------\n",
      " ------- LR -------\n",
      "Accuracy: 0.5\n",
      "Confusion Matrix:\n",
      " [[ 6 12]\n",
      " [ 3  9]]\n",
      "Classification Report:\n",
      "               precision    recall  f1-score   support\n",
      "\n",
      "         0.0       0.67      0.33      0.44        18\n",
      "         1.0       0.43      0.75      0.55        12\n",
      "\n",
      "    accuracy                           0.50        30\n",
      "   macro avg       0.55      0.54      0.49        30\n",
      "weighted avg       0.57      0.50      0.48        30\n",
      "\n",
      "AUC: 0.5046296296296297\n",
      " ------- Building RF model -------\n",
      "AUC on training set: 0.9930098684210527\n",
      "Accuracy: 0.36666666666666664\n",
      "Confusion Matrix:\n",
      " [[ 4 14]\n",
      " [ 5  7]]\n",
      "Classification Report:\n",
      "               precision    recall  f1-score   support\n",
      "\n",
      "         0.0       0.44      0.22      0.30        18\n",
      "         1.0       0.33      0.58      0.42        12\n",
      "\n",
      "    accuracy                           0.37        30\n",
      "   macro avg       0.39      0.40      0.36        30\n",
      "weighted avg       0.40      0.37      0.35        30\n",
      "\n",
      "AUC: 0.42129629629629634\n",
      " ------- Building XGBOOST model -------\n",
      "AUC on training set: 0.9930098684210527\n",
      "Accuracy: 0.4\n",
      "Confusion Matrix:\n",
      " [[ 5 13]\n",
      " [ 5  7]]\n",
      "Classification Report:\n",
      "               precision    recall  f1-score   support\n",
      "\n",
      "         0.0       0.50      0.28      0.36        18\n",
      "         1.0       0.35      0.58      0.44        12\n",
      "\n",
      "    accuracy                           0.40        30\n",
      "   macro avg       0.42      0.43      0.40        30\n",
      "weighted avg       0.44      0.40      0.39        30\n",
      "\n",
      "AUC: 0.5462962962962963\n",
      " - - - - - 202404 - - - - - -\n",
      " ------- Building LR model -------\n",
      " ------- LR -------\n",
      "Accuracy: 0.5\n",
      "Confusion Matrix:\n",
      " [[ 4  9]\n",
      " [ 6 11]]\n",
      "Classification Report:\n",
      "               precision    recall  f1-score   support\n",
      "\n",
      "         0.0       0.40      0.31      0.35        13\n",
      "         1.0       0.55      0.65      0.59        17\n",
      "\n",
      "    accuracy                           0.50        30\n",
      "   macro avg       0.48      0.48      0.47        30\n",
      "weighted avg       0.49      0.50      0.49        30\n",
      "\n",
      "AUC: 0.5158371040723981\n",
      " ------- Building RF model -------\n",
      "AUC on training set: 0.9733824733824734\n",
      "Accuracy: 0.5666666666666667\n",
      "Confusion Matrix:\n",
      " [[ 6  7]\n",
      " [ 6 11]]\n",
      "Classification Report:\n",
      "               precision    recall  f1-score   support\n",
      "\n",
      "         0.0       0.50      0.46      0.48        13\n",
      "         1.0       0.61      0.65      0.63        17\n",
      "\n",
      "    accuracy                           0.57        30\n",
      "   macro avg       0.56      0.55      0.55        30\n",
      "weighted avg       0.56      0.57      0.56        30\n",
      "\n",
      "AUC: 0.6380090497737556\n",
      " ------- Building XGBOOST model -------\n",
      "AUC on training set: 0.9733824733824734\n",
      "Accuracy: 0.6\n",
      "Confusion Matrix:\n",
      " [[9 4]\n",
      " [8 9]]\n",
      "Classification Report:\n",
      "               precision    recall  f1-score   support\n",
      "\n",
      "         0.0       0.53      0.69      0.60        13\n",
      "         1.0       0.69      0.53      0.60        17\n",
      "\n",
      "    accuracy                           0.60        30\n",
      "   macro avg       0.61      0.61      0.60        30\n",
      "weighted avg       0.62      0.60      0.60        30\n",
      "\n",
      "AUC: 0.6131221719457014\n",
      " - - - - - 202405 - - - - - -\n",
      " ------- Building LR model -------\n",
      " ------- LR -------\n",
      "Accuracy: 0.4\n",
      "Confusion Matrix:\n",
      " [[ 3 11]\n",
      " [ 7  9]]\n",
      "Classification Report:\n",
      "               precision    recall  f1-score   support\n",
      "\n",
      "         0.0       0.30      0.21      0.25        14\n",
      "         1.0       0.45      0.56      0.50        16\n",
      "\n",
      "    accuracy                           0.40        30\n",
      "   macro avg       0.38      0.39      0.38        30\n",
      "weighted avg       0.38      0.40      0.38        30\n",
      "\n",
      "AUC: 0.40625\n",
      " ------- Building RF model -------\n",
      "AUC on training set: 0.977796052631579\n",
      "Accuracy: 0.4666666666666667\n",
      "Confusion Matrix:\n",
      " [[5 9]\n",
      " [7 9]]\n",
      "Classification Report:\n",
      "               precision    recall  f1-score   support\n",
      "\n",
      "         0.0       0.42      0.36      0.38        14\n",
      "         1.0       0.50      0.56      0.53        16\n",
      "\n",
      "    accuracy                           0.47        30\n",
      "   macro avg       0.46      0.46      0.46        30\n",
      "weighted avg       0.46      0.47      0.46        30\n",
      "\n",
      "AUC: 0.5\n",
      " ------- Building XGBOOST model -------\n",
      "AUC on training set: 0.977796052631579\n",
      "Accuracy: 0.5666666666666667\n",
      "Confusion Matrix:\n",
      " [[ 6  8]\n",
      " [ 5 11]]\n",
      "Classification Report:\n",
      "               precision    recall  f1-score   support\n",
      "\n",
      "         0.0       0.55      0.43      0.48        14\n",
      "         1.0       0.58      0.69      0.63        16\n",
      "\n",
      "    accuracy                           0.57        30\n",
      "   macro avg       0.56      0.56      0.55        30\n",
      "weighted avg       0.56      0.57      0.56        30\n",
      "\n",
      "AUC: 0.6540178571428572\n",
      " - - - - - 202404_05 - - - - - -\n",
      " ------- Building LR model -------\n",
      " ------- LR -------\n",
      "Accuracy: 0.5\n",
      "Confusion Matrix:\n",
      " [[13 33]\n",
      " [12 32]]\n",
      "Classification Report:\n",
      "               precision    recall  f1-score   support\n",
      "\n",
      "         0.0       0.52      0.28      0.37        46\n",
      "         1.0       0.49      0.73      0.59        44\n",
      "\n",
      "    accuracy                           0.50        90\n",
      "   macro avg       0.51      0.50      0.48        90\n",
      "weighted avg       0.51      0.50      0.47        90\n",
      "\n",
      "AUC: 0.5360671936758893\n",
      " ------- Building RF model -------\n",
      "AUC on training set: 0.9502467105263158\n",
      "Accuracy: 0.5333333333333333\n",
      "Confusion Matrix:\n",
      " [[17 29]\n",
      " [13 31]]\n",
      "Classification Report:\n",
      "               precision    recall  f1-score   support\n",
      "\n",
      "         0.0       0.57      0.37      0.45        46\n",
      "         1.0       0.52      0.70      0.60        44\n",
      "\n",
      "    accuracy                           0.53        90\n",
      "   macro avg       0.54      0.54      0.52        90\n",
      "weighted avg       0.54      0.53      0.52        90\n",
      "\n",
      "AUC: 0.5622529644268774\n",
      " ------- Building XGBOOST model -------\n",
      "AUC on training set: 0.9502467105263158\n",
      "Accuracy: 0.6222222222222222\n",
      "Confusion Matrix:\n",
      " [[25 21]\n",
      " [13 31]]\n",
      "Classification Report:\n",
      "               precision    recall  f1-score   support\n",
      "\n",
      "         0.0       0.66      0.54      0.60        46\n",
      "         1.0       0.60      0.70      0.65        44\n",
      "\n",
      "    accuracy                           0.62        90\n",
      "   macro avg       0.63      0.62      0.62        90\n",
      "weighted avg       0.63      0.62      0.62        90\n",
      "\n",
      "AUC: 0.6371047430830039\n"
     ]
    },
    {
     "data": {
      "image/png": "[encoded data removed]",
      "text/plain": [
       "<Figure size 640x480 with 1 Axes>"
      ]
     },
     "metadata": {},
     "output_type": "display_data"
    }
   ],
   "source": [
    "results_auc = {}\n",
    "results_accuracy = {}\n",
    "\n",
    "\n",
    "for dataset_label, dataset_ in zip([\"202403\",\"202404\", \"202405\", \"202404_05\"], [ \n",
    "    [X_train_202403, X_test_202403, y_train_202403, y_test_202403],\n",
    "    [X_train_202404, X_test_202404, y_train_202404, y_test_202404],\n",
    "    [X_train_202405, X_test_202405, y_train_202405, y_test_202405],\n",
    "    [X_train_202404_05, X_test_202404_05, y_train_202404_05, y_test_202404_05]]):\n",
    "    print(\" - - - - - {} - - - - - -\".format(dataset_label))\n",
    "    X_train, X_test, y_train, y_test = dataset_\n",
    "    lr_model, auc_lr, accuracy_lr = run_LR(X_train, y_train, X_test, y_test)\n",
    "    rf_model, auc_rf, accuracy_rf = run_RF(X_train, y_train, X_test, y_test, columns_names)\n",
    "    xgboost_model, auc_xgboost, accuracy_xgboost = run_xgboost(X_train, y_train, X_test, y_test)\n",
    "    \n",
    "    results_auc[dataset_label] = [auc_lr, auc_rf, auc_xgboost]\n",
    "    results_accuracy[dataset_label] = [accuracy_lr, accuracy_rf, accuracy_xgboost]"
   ]
  },
  {
   "cell_type": "markdown",
   "id": "a3cf30fd",
   "metadata": {},
   "source": [
    "## Results"
   ]
  },
  {
   "cell_type": "code",
   "execution_count": 115,
   "id": "6c141fc5",
   "metadata": {},
   "outputs": [
    {
     "data": {
      "text/html": [
       "<div>\n",
       "<style scoped>\n",
       "    .dataframe tbody tr th:only-of-type {\n",
       "        vertical-align: middle;\n",
       "    }\n",
       "\n",
       "    .dataframe tbody tr th {\n",
       "        vertical-align: top;\n",
       "    }\n",
       "\n",
       "    .dataframe thead th {\n",
       "        text-align: right;\n",
       "    }\n",
       "</style>\n",
       "<table border=\"1\" class=\"dataframe\">\n",
       "  <thead>\n",
       "    <tr style=\"text-align: right;\">\n",
       "      <th></th>\n",
       "      <th>202403</th>\n",
       "      <th>202404</th>\n",
       "      <th>202405</th>\n",
       "      <th>202404_05</th>\n",
       "    </tr>\n",
       "  </thead>\n",
       "  <tbody>\n",
       "    <tr>\n",
       "      <th>LR</th>\n",
       "      <td>0.504630</td>\n",
       "      <td>0.515837</td>\n",
       "      <td>0.406250</td>\n",
       "      <td>0.536067</td>\n",
       "    </tr>\n",
       "    <tr>\n",
       "      <th>RF</th>\n",
       "      <td>0.421296</td>\n",
       "      <td>0.638009</td>\n",
       "      <td>0.500000</td>\n",
       "      <td>0.562253</td>\n",
       "    </tr>\n",
       "    <tr>\n",
       "      <th>XGBOOST</th>\n",
       "      <td>0.546296</td>\n",
       "      <td>0.613122</td>\n",
       "      <td>0.654018</td>\n",
       "      <td>0.637105</td>\n",
       "    </tr>\n",
       "  </tbody>\n",
       "</table>\n",
       "</div>"
      ],
      "text/plain": [
       "           202403    202404    202405  202404_05\n",
       "LR       0.504630  0.515837  0.406250   0.536067\n",
       "RF       0.421296  0.638009  0.500000   0.562253\n",
       "XGBOOST  0.546296  0.613122  0.654018   0.637105"
      ]
     },
     "execution_count": 115,
     "metadata": {},
     "output_type": "execute_result"
    }
   ],
   "source": [
    "pd.DataFrame(results_auc, index=[\"LR\", \"RF\", \"XGBOOST\"])"
   ]
  },
  {
   "cell_type": "code",
   "execution_count": 116,
   "id": "8f51d248",
   "metadata": {},
   "outputs": [
    {
     "name": "stdout",
     "output_type": "stream",
     "text": [
      "Accuracy\n"
     ]
    },
    {
     "data": {
      "text/html": [
       "<div>\n",
       "<style scoped>\n",
       "    .dataframe tbody tr th:only-of-type {\n",
       "        vertical-align: middle;\n",
       "    }\n",
       "\n",
       "    .dataframe tbody tr th {\n",
       "        vertical-align: top;\n",
       "    }\n",
       "\n",
       "    .dataframe thead th {\n",
       "        text-align: right;\n",
       "    }\n",
       "</style>\n",
       "<table border=\"1\" class=\"dataframe\">\n",
       "  <thead>\n",
       "    <tr style=\"text-align: right;\">\n",
       "      <th></th>\n",
       "      <th>202403</th>\n",
       "      <th>202404</th>\n",
       "      <th>202405</th>\n",
       "      <th>202404_05</th>\n",
       "    </tr>\n",
       "  </thead>\n",
       "  <tbody>\n",
       "    <tr>\n",
       "      <th>LR</th>\n",
       "      <td>0.500000</td>\n",
       "      <td>0.500000</td>\n",
       "      <td>0.400000</td>\n",
       "      <td>0.500000</td>\n",
       "    </tr>\n",
       "    <tr>\n",
       "      <th>RF</th>\n",
       "      <td>0.366667</td>\n",
       "      <td>0.566667</td>\n",
       "      <td>0.466667</td>\n",
       "      <td>0.533333</td>\n",
       "    </tr>\n",
       "    <tr>\n",
       "      <th>XGBOOST</th>\n",
       "      <td>0.400000</td>\n",
       "      <td>0.600000</td>\n",
       "      <td>0.566667</td>\n",
       "      <td>0.622222</td>\n",
       "    </tr>\n",
       "  </tbody>\n",
       "</table>\n",
       "</div>"
      ],
      "text/plain": [
       "           202403    202404    202405  202404_05\n",
       "LR       0.500000  0.500000  0.400000   0.500000\n",
       "RF       0.366667  0.566667  0.466667   0.533333\n",
       "XGBOOST  0.400000  0.600000  0.566667   0.622222"
      ]
     },
     "execution_count": 116,
     "metadata": {},
     "output_type": "execute_result"
    }
   ],
   "source": [
    "print(\"Accuracy\")\n",
    "pd.DataFrame(results_accuracy, index=[\"LR\", \"RF\", \"XGBOOST\"])"
   ]
  },
  {
   "cell_type": "markdown",
   "id": "65c7a928",
   "metadata": {},
   "source": [
    "# Comments on results"
   ]
  },
  {
   "cell_type": "markdown",
   "id": "e48e82c9",
   "metadata": {},
   "source": [
    "Comments\n",
    "\n",
    "- Poor performance \n",
    "- Few data\n",
    "    * to train the model (80 examples)\n",
    "    * to test the model (20 examples)\n",
    "\n",
    "Future work\n",
    "\n",
    "- Data\n",
    "   - Consider more customers \n",
    "   - Add specific information about each customer \n",
    "- ML algorithms\n",
    "   - Other algorithms\n",
    "   - Hyperparameter Tuning of algorithms\n"
   ]
  }
 ],
 "metadata": {
  "kernelspec": {
   "display_name": "Python 3 (ipykernel)",
   "language": "python",
   "name": "python3"
  },
  "language_info": {
   "codemirror_mode": {
    "name": "ipython",
    "version": 3
   },
   "file_extension": ".py",
   "mimetype": "text/x-python",
   "name": "python",
   "nbconvert_exporter": "python",
   "pygments_lexer": "ipython3",
   "version": "3.8.5"
  },
  "toc": {
   "base_numbering": 1,
   "nav_menu": {},
   "number_sections": true,
   "sideBar": true,
   "skip_h1_title": false,
   "title_cell": "Table of Contents",
   "title_sidebar": "Contents",
   "toc_cell": false,
   "toc_position": {},
   "toc_section_display": true,
   "toc_window_display": true
  }
 },
 "nbformat": 4,
 "nbformat_minor": 5
}
