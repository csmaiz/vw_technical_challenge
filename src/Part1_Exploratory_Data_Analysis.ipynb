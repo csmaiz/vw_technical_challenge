{
 "cells": [
  {
   "cell_type": "markdown",
   "id": "b7f9a561",
   "metadata": {},
   "source": [
    "\n",
    "<span style=\"color:#000000; font-size:1.2em; text-align:right\">Data Scientist II Technical Challenge</span>\n",
    "\n",
    "<span style=\"color:#e01760; font-size:2em; align=center\">Part 1: Exploratory Data Analysis</span>\n",
    "\n",
    "<font color=\"#6E6E6E\" align=\"center\">Cristina M. Sánchez Maíz | csmaiz@gmail.com | [LinkedIn](https://www.linkedin.com/in/csmaiz/) </font> "
   ]
  },
  {
   "cell_type": "markdown",
   "id": "a1e1d7b8",
   "metadata": {},
   "source": [
    "You will be provided with a dataset containing information about Customer transactions.\n",
    "\n",
    "**Tasks**:\n",
    "- Load the dataset and perform basic data cleaning (e.g., handling missing values, correcting data types).\n",
    "- Conduct exploratory data analysis to understand the main characteristics of the data.\n",
    "- Visualize key insights using appropriate plots (e.g., histograms, bar charts, scatter plots).\n",
    "\n",
    "**Deliverables**\n",
    "- Summary statistics of the dataset.\n",
    "- At least three different visualizations with explanations."
   ]
  },
  {
   "cell_type": "markdown",
   "id": "62ae16a3",
   "metadata": {},
   "source": [
    "# Import libraries"
   ]
  },
  {
   "cell_type": "code",
   "execution_count": 1,
   "id": "2fb87b44",
   "metadata": {},
   "outputs": [],
   "source": [
    "%matplotlib inline\n",
    "import pandas as pd \n",
    "import numpy as np\n",
    "import matplotlib\n",
    "import matplotlib.pyplot as plt\n",
    "import seaborn as sns\n",
    "import missingno as msno\n",
    "import datetime as dt"
   ]
  },
  {
   "cell_type": "code",
   "execution_count": 2,
   "id": "da5203f2",
   "metadata": {},
   "outputs": [],
   "source": [
    "from constants import *"
   ]
  },
  {
   "cell_type": "code",
   "execution_count": 3,
   "id": "56a82307",
   "metadata": {},
   "outputs": [
    {
     "data": {
      "text/html": [
       "<style>.container { max-width:100% !important; }</style>"
      ],
      "text/plain": [
       "<IPython.core.display.HTML object>"
      ]
     },
     "metadata": {},
     "output_type": "display_data"
    },
    {
     "data": {
      "text/html": [
       "<style>.output_result { max-width:100% !important; }</style>"
      ],
      "text/plain": [
       "<IPython.core.display.HTML object>"
      ]
     },
     "metadata": {},
     "output_type": "display_data"
    },
    {
     "data": {
      "text/html": [
       "<style>.output_area { max-width:100% !important; }</style>"
      ],
      "text/plain": [
       "<IPython.core.display.HTML object>"
      ]
     },
     "metadata": {},
     "output_type": "display_data"
    },
    {
     "data": {
      "text/html": [
       "<style>.input_area { max-width:100% !important; }</style>"
      ],
      "text/plain": [
       "<IPython.core.display.HTML object>"
      ]
     },
     "metadata": {},
     "output_type": "display_data"
    }
   ],
   "source": [
    "from IPython.display import display, HTML\n",
    "display(HTML(\"<style>.container { max-width:100% !important; }</style>\"))\n",
    "display(HTML(\"<style>.output_result { max-width:100% !important; }</style>\"))\n",
    "display(HTML(\"<style>.output_area { max-width:100% !important; }</style>\"))\n",
    "display(HTML(\"<style>.input_area { max-width:100% !important; }</style>\"))"
   ]
  },
  {
   "cell_type": "markdown",
   "id": "e87fa861",
   "metadata": {},
   "source": [
    "# Load the dataset"
   ]
  },
  {
   "cell_type": "code",
   "execution_count": 4,
   "id": "2acb0746",
   "metadata": {},
   "outputs": [
    {
     "name": "stdout",
     "output_type": "stream",
     "text": [
      "head: ./datasets/customer_transactions_with_errors.csv: No such file or directory\r\n"
     ]
    }
   ],
   "source": [
    "# Run a Linux command to get the header and the first two rows of the dataset\n",
    "! head -n3 ./datasets/customer_transactions_with_errors.csv "
   ]
  },
  {
   "cell_type": "code",
   "execution_count": 5,
   "id": "0d014747",
   "metadata": {},
   "outputs": [
    {
     "name": "stdout",
     "output_type": "stream",
     "text": [
      "Number of columns:  8\n",
      "Number of rows:  1010\n"
     ]
    }
   ],
   "source": [
    "df_transactions = pd.read_csv('../input/customer_transactions_with_errors.csv',\n",
    "                      dtype={'payment_method':'category',\n",
    "                             'product_category':'category'\n",
    "                            }, delimiter=\",\")\n",
    "print(\"Number of columns: \", df_transactions.shape[1])\n",
    "print(\"Number of rows: \", df_transactions.shape[0])"
   ]
  },
  {
   "cell_type": "markdown",
   "id": "0795c8fe",
   "metadata": {},
   "source": [
    "# Explore columns"
   ]
  },
  {
   "cell_type": "code",
   "execution_count": 6,
   "id": "cb6fdd8f",
   "metadata": {},
   "outputs": [
    {
     "data": {
      "text/html": [
       "<div>\n",
       "<style scoped>\n",
       "    .dataframe tbody tr th:only-of-type {\n",
       "        vertical-align: middle;\n",
       "    }\n",
       "\n",
       "    .dataframe tbody tr th {\n",
       "        vertical-align: top;\n",
       "    }\n",
       "\n",
       "    .dataframe thead th {\n",
       "        text-align: right;\n",
       "    }\n",
       "</style>\n",
       "<table border=\"1\" class=\"dataframe\">\n",
       "  <thead>\n",
       "    <tr style=\"text-align: right;\">\n",
       "      <th></th>\n",
       "      <th>customer_id</th>\n",
       "      <th>transaction_id</th>\n",
       "      <th>transaction_date</th>\n",
       "      <th>amount</th>\n",
       "      <th>product_category</th>\n",
       "      <th>payment_method</th>\n",
       "      <th>customer_age</th>\n",
       "      <th>customer_income</th>\n",
       "    </tr>\n",
       "  </thead>\n",
       "  <tbody>\n",
       "    <tr>\n",
       "      <th>0</th>\n",
       "      <td>74</td>\n",
       "      <td>1001</td>\n",
       "      <td>NaN</td>\n",
       "      <td>NaN</td>\n",
       "      <td>groceries</td>\n",
       "      <td>debit card</td>\n",
       "      <td>62</td>\n",
       "      <td>47401.75</td>\n",
       "    </tr>\n",
       "    <tr>\n",
       "      <th>1</th>\n",
       "      <td>2</td>\n",
       "      <td>1002</td>\n",
       "      <td>2024-04-06</td>\n",
       "      <td>1493.880878</td>\n",
       "      <td>Clothing</td>\n",
       "      <td>PayPal</td>\n",
       "      <td>54</td>\n",
       "      <td>112346.73</td>\n",
       "    </tr>\n",
       "    <tr>\n",
       "      <th>2</th>\n",
       "      <td>44</td>\n",
       "      <td>1003</td>\n",
       "      <td>2023-09-22</td>\n",
       "      <td>1323.237903</td>\n",
       "      <td>Electronics</td>\n",
       "      <td>Debit Card</td>\n",
       "      <td>58</td>\n",
       "      <td>111438.03</td>\n",
       "    </tr>\n",
       "    <tr>\n",
       "      <th>3</th>\n",
       "      <td>6</td>\n",
       "      <td>1004</td>\n",
       "      <td>2024-01-20</td>\n",
       "      <td>647.237864</td>\n",
       "      <td>Clothing</td>\n",
       "      <td>Debit Card</td>\n",
       "      <td>42</td>\n",
       "      <td>50237.29</td>\n",
       "    </tr>\n",
       "    <tr>\n",
       "      <th>4</th>\n",
       "      <td>46</td>\n",
       "      <td>1005</td>\n",
       "      <td>2023-08-28</td>\n",
       "      <td>1385.696166</td>\n",
       "      <td>Groceries</td>\n",
       "      <td>Debit Card</td>\n",
       "      <td>47</td>\n",
       "      <td>115697.03</td>\n",
       "    </tr>\n",
       "    <tr>\n",
       "      <th>5</th>\n",
       "      <td>43</td>\n",
       "      <td>1006</td>\n",
       "      <td>2023-08-04</td>\n",
       "      <td>1149.766566</td>\n",
       "      <td>Groceries</td>\n",
       "      <td>Credit Card</td>\n",
       "      <td>33</td>\n",
       "      <td>86596.87</td>\n",
       "    </tr>\n",
       "    <tr>\n",
       "      <th>6</th>\n",
       "      <td>18</td>\n",
       "      <td>1007</td>\n",
       "      <td>2024-04-02</td>\n",
       "      <td>728.526325</td>\n",
       "      <td>Electronics</td>\n",
       "      <td>Debit Card</td>\n",
       "      <td>68</td>\n",
       "      <td>63018.87</td>\n",
       "    </tr>\n",
       "    <tr>\n",
       "      <th>7</th>\n",
       "      <td>8</td>\n",
       "      <td>1008</td>\n",
       "      <td>2024-02-06</td>\n",
       "      <td>1331.612563</td>\n",
       "      <td>Electronics</td>\n",
       "      <td>PayPal</td>\n",
       "      <td>36</td>\n",
       "      <td>93901.83</td>\n",
       "    </tr>\n",
       "    <tr>\n",
       "      <th>8</th>\n",
       "      <td>57</td>\n",
       "      <td>1009</td>\n",
       "      <td>2023-12-13</td>\n",
       "      <td>1293.616488</td>\n",
       "      <td>Electronics</td>\n",
       "      <td>Debit Card</td>\n",
       "      <td>42</td>\n",
       "      <td>119273.91</td>\n",
       "    </tr>\n",
       "    <tr>\n",
       "      <th>9</th>\n",
       "      <td>65</td>\n",
       "      <td>1010</td>\n",
       "      <td>2023-10-17</td>\n",
       "      <td>914.013631</td>\n",
       "      <td>Electronics</td>\n",
       "      <td>Debit Card</td>\n",
       "      <td>49</td>\n",
       "      <td>47051.13</td>\n",
       "    </tr>\n",
       "  </tbody>\n",
       "</table>\n",
       "</div>"
      ],
      "text/plain": [
       "   customer_id  transaction_id transaction_date       amount product_category  \\\n",
       "0           74            1001              NaN          NaN        groceries   \n",
       "1            2            1002       2024-04-06  1493.880878         Clothing   \n",
       "2           44            1003       2023-09-22  1323.237903      Electronics   \n",
       "3            6            1004       2024-01-20   647.237864         Clothing   \n",
       "4           46            1005       2023-08-28  1385.696166        Groceries   \n",
       "5           43            1006       2023-08-04  1149.766566        Groceries   \n",
       "6           18            1007       2024-04-02   728.526325      Electronics   \n",
       "7            8            1008       2024-02-06  1331.612563      Electronics   \n",
       "8           57            1009       2023-12-13  1293.616488      Electronics   \n",
       "9           65            1010       2023-10-17   914.013631      Electronics   \n",
       "\n",
       "  payment_method  customer_age  customer_income  \n",
       "0     debit card            62         47401.75  \n",
       "1         PayPal            54        112346.73  \n",
       "2     Debit Card            58        111438.03  \n",
       "3     Debit Card            42         50237.29  \n",
       "4     Debit Card            47        115697.03  \n",
       "5    Credit Card            33         86596.87  \n",
       "6     Debit Card            68         63018.87  \n",
       "7         PayPal            36         93901.83  \n",
       "8     Debit Card            42        119273.91  \n",
       "9     Debit Card            49         47051.13  "
      ]
     },
     "execution_count": 6,
     "metadata": {},
     "output_type": "execute_result"
    }
   ],
   "source": [
    "df_transactions.head(10) "
   ]
  },
  {
   "cell_type": "code",
   "execution_count": 7,
   "id": "d28a6559",
   "metadata": {},
   "outputs": [
    {
     "data": {
      "text/html": [
       "<div>\n",
       "<style scoped>\n",
       "    .dataframe tbody tr th:only-of-type {\n",
       "        vertical-align: middle;\n",
       "    }\n",
       "\n",
       "    .dataframe tbody tr th {\n",
       "        vertical-align: top;\n",
       "    }\n",
       "\n",
       "    .dataframe thead th {\n",
       "        text-align: right;\n",
       "    }\n",
       "</style>\n",
       "<table border=\"1\" class=\"dataframe\">\n",
       "  <thead>\n",
       "    <tr style=\"text-align: right;\">\n",
       "      <th></th>\n",
       "      <th>customer_id</th>\n",
       "      <th>transaction_id</th>\n",
       "      <th>amount</th>\n",
       "      <th>customer_age</th>\n",
       "      <th>customer_income</th>\n",
       "    </tr>\n",
       "  </thead>\n",
       "  <tbody>\n",
       "    <tr>\n",
       "      <th>count</th>\n",
       "      <td>15.0</td>\n",
       "      <td>15.000000</td>\n",
       "      <td>13.000000</td>\n",
       "      <td>15.000000</td>\n",
       "      <td>15.000000</td>\n",
       "    </tr>\n",
       "    <tr>\n",
       "      <th>mean</th>\n",
       "      <td>74.0</td>\n",
       "      <td>1333.400000</td>\n",
       "      <td>894.052261</td>\n",
       "      <td>47.400000</td>\n",
       "      <td>58455.669333</td>\n",
       "    </tr>\n",
       "    <tr>\n",
       "      <th>std</th>\n",
       "      <td>0.0</td>\n",
       "      <td>330.216769</td>\n",
       "      <td>273.394639</td>\n",
       "      <td>11.605417</td>\n",
       "      <td>25667.121168</td>\n",
       "    </tr>\n",
       "    <tr>\n",
       "      <th>min</th>\n",
       "      <td>74.0</td>\n",
       "      <td>1001.000000</td>\n",
       "      <td>482.058365</td>\n",
       "      <td>30.000000</td>\n",
       "      <td>21518.130000</td>\n",
       "    </tr>\n",
       "    <tr>\n",
       "      <th>25%</th>\n",
       "      <td>74.0</td>\n",
       "      <td>1090.000000</td>\n",
       "      <td>707.610217</td>\n",
       "      <td>40.000000</td>\n",
       "      <td>39661.135000</td>\n",
       "    </tr>\n",
       "    <tr>\n",
       "      <th>50%</th>\n",
       "      <td>74.0</td>\n",
       "      <td>1166.000000</td>\n",
       "      <td>923.911336</td>\n",
       "      <td>44.000000</td>\n",
       "      <td>53158.440000</td>\n",
       "    </tr>\n",
       "    <tr>\n",
       "      <th>75%</th>\n",
       "      <td>74.0</td>\n",
       "      <td>1639.000000</td>\n",
       "      <td>1088.866233</td>\n",
       "      <td>57.000000</td>\n",
       "      <td>77005.945000</td>\n",
       "    </tr>\n",
       "    <tr>\n",
       "      <th>max</th>\n",
       "      <td>74.0</td>\n",
       "      <td>1969.000000</td>\n",
       "      <td>1344.905698</td>\n",
       "      <td>66.000000</td>\n",
       "      <td>104875.050000</td>\n",
       "    </tr>\n",
       "  </tbody>\n",
       "</table>\n",
       "</div>"
      ],
      "text/plain": [
       "       customer_id  transaction_id       amount  customer_age  customer_income\n",
       "count         15.0       15.000000    13.000000     15.000000        15.000000\n",
       "mean          74.0     1333.400000   894.052261     47.400000     58455.669333\n",
       "std            0.0      330.216769   273.394639     11.605417     25667.121168\n",
       "min           74.0     1001.000000   482.058365     30.000000     21518.130000\n",
       "25%           74.0     1090.000000   707.610217     40.000000     39661.135000\n",
       "50%           74.0     1166.000000   923.911336     44.000000     53158.440000\n",
       "75%           74.0     1639.000000  1088.866233     57.000000     77005.945000\n",
       "max           74.0     1969.000000  1344.905698     66.000000    104875.050000"
      ]
     },
     "execution_count": 7,
     "metadata": {},
     "output_type": "execute_result"
    }
   ],
   "source": [
    "df_transactions[df_transactions[\"customer_id\"]==74].describe()"
   ]
  },
  {
   "cell_type": "code",
   "execution_count": 8,
   "id": "b81a9d77",
   "metadata": {},
   "outputs": [
    {
     "name": "stdout",
     "output_type": "stream",
     "text": [
      "<class 'pandas.core.frame.DataFrame'>\n",
      "RangeIndex: 1010 entries, 0 to 1009\n",
      "Data columns (total 8 columns):\n",
      " #   Column            Non-Null Count  Dtype   \n",
      "---  ------            --------------  -----   \n",
      " 0   customer_id       1010 non-null   int64   \n",
      " 1   transaction_id    1010 non-null   int64   \n",
      " 2   transaction_date  989 non-null    object  \n",
      " 3   amount            989 non-null    float64 \n",
      " 4   product_category  1010 non-null   category\n",
      " 5   payment_method    1010 non-null   category\n",
      " 6   customer_age      1010 non-null   int64   \n",
      " 7   customer_income   1010 non-null   float64 \n",
      "dtypes: category(2), float64(2), int64(3), object(1)\n",
      "memory usage: 49.9+ KB\n"
     ]
    }
   ],
   "source": [
    "df_transactions.info()"
   ]
  },
  {
   "cell_type": "markdown",
   "id": "4cb1e7af",
   "metadata": {},
   "source": [
    "<div class=\"alert alert-block alert-warning\">\n",
    "<img src=\"./images/warning.png\" align=\"left\" style=\"float\" width=\"40\">\n",
    "\n",
    "<b>Comments:</b> \n",
    "\n",
    "- Columns `transaction_date` and `amount` contains nulls\n",
    "- Columns `product_category` and `payment_method` are categorical columns with mixed upper/lower case formats\n",
    "- Many values of `customer_age` for the same `customer_id` in transactions made in less than a year\n",
    "- Many values of `customer_income`for the same `customer_id`\n",
    "</div>"
   ]
  },
  {
   "cell_type": "markdown",
   "id": "41337b3d",
   "metadata": {},
   "source": [
    "# Handle missing values"
   ]
  },
  {
   "cell_type": "code",
   "execution_count": 9,
   "id": "760df242",
   "metadata": {},
   "outputs": [
    {
     "name": "stdout",
     "output_type": "stream",
     "text": [
      "customer_id          0\n",
      "transaction_id       0\n",
      "transaction_date    21\n",
      "amount              21\n",
      "product_category     0\n",
      "payment_method       0\n",
      "customer_age         0\n",
      "customer_income      0\n",
      "dtype: int64\n"
     ]
    }
   ],
   "source": [
    "print(df_transactions.isnull().sum())  # Count missing values in each column"
   ]
  },
  {
   "cell_type": "markdown",
   "id": "3c29c8bb",
   "metadata": {},
   "source": [
    "Notes:\n",
    "- Columns `transaction_date` and `amount` contains 21 nulls"
   ]
  },
  {
   "cell_type": "code",
   "execution_count": 10,
   "id": "2bcd68ed",
   "metadata": {},
   "outputs": [
    {
     "data": {
      "text/html": [
       "<div>\n",
       "<style scoped>\n",
       "    .dataframe tbody tr th:only-of-type {\n",
       "        vertical-align: middle;\n",
       "    }\n",
       "\n",
       "    .dataframe tbody tr th {\n",
       "        vertical-align: top;\n",
       "    }\n",
       "\n",
       "    .dataframe thead th {\n",
       "        text-align: right;\n",
       "    }\n",
       "</style>\n",
       "<table border=\"1\" class=\"dataframe\">\n",
       "  <thead>\n",
       "    <tr style=\"text-align: right;\">\n",
       "      <th></th>\n",
       "      <th>customer_id</th>\n",
       "      <th>transaction_id</th>\n",
       "      <th>transaction_date</th>\n",
       "      <th>amount</th>\n",
       "      <th>product_category</th>\n",
       "      <th>payment_method</th>\n",
       "      <th>customer_age</th>\n",
       "      <th>customer_income</th>\n",
       "    </tr>\n",
       "  </thead>\n",
       "  <tbody>\n",
       "    <tr>\n",
       "      <th>0</th>\n",
       "      <td>74</td>\n",
       "      <td>1001</td>\n",
       "      <td>NaN</td>\n",
       "      <td>NaN</td>\n",
       "      <td>groceries</td>\n",
       "      <td>debit card</td>\n",
       "      <td>62</td>\n",
       "      <td>47401.75</td>\n",
       "    </tr>\n",
       "    <tr>\n",
       "      <th>50</th>\n",
       "      <td>76</td>\n",
       "      <td>1051</td>\n",
       "      <td>NaN</td>\n",
       "      <td>NaN</td>\n",
       "      <td>groceries</td>\n",
       "      <td>paypal</td>\n",
       "      <td>58</td>\n",
       "      <td>105611.17</td>\n",
       "    </tr>\n",
       "    <tr>\n",
       "      <th>100</th>\n",
       "      <td>40</td>\n",
       "      <td>1101</td>\n",
       "      <td>NaN</td>\n",
       "      <td>NaN</td>\n",
       "      <td>groceries</td>\n",
       "      <td>credit card</td>\n",
       "      <td>32</td>\n",
       "      <td>46895.86</td>\n",
       "    </tr>\n",
       "    <tr>\n",
       "      <th>150</th>\n",
       "      <td>76</td>\n",
       "      <td>1151</td>\n",
       "      <td>NaN</td>\n",
       "      <td>NaN</td>\n",
       "      <td>clothing</td>\n",
       "      <td>paypal</td>\n",
       "      <td>35</td>\n",
       "      <td>77263.07</td>\n",
       "    </tr>\n",
       "    <tr>\n",
       "      <th>200</th>\n",
       "      <td>6</td>\n",
       "      <td>1201</td>\n",
       "      <td>NaN</td>\n",
       "      <td>NaN</td>\n",
       "      <td>groceries</td>\n",
       "      <td>debit card</td>\n",
       "      <td>33</td>\n",
       "      <td>62488.79</td>\n",
       "    </tr>\n",
       "    <tr>\n",
       "      <th>250</th>\n",
       "      <td>26</td>\n",
       "      <td>1251</td>\n",
       "      <td>NaN</td>\n",
       "      <td>NaN</td>\n",
       "      <td>groceries</td>\n",
       "      <td>paypal</td>\n",
       "      <td>29</td>\n",
       "      <td>49280.11</td>\n",
       "    </tr>\n",
       "    <tr>\n",
       "      <th>300</th>\n",
       "      <td>84</td>\n",
       "      <td>1301</td>\n",
       "      <td>NaN</td>\n",
       "      <td>NaN</td>\n",
       "      <td>electronics</td>\n",
       "      <td>paypal</td>\n",
       "      <td>60</td>\n",
       "      <td>110664.35</td>\n",
       "    </tr>\n",
       "    <tr>\n",
       "      <th>350</th>\n",
       "      <td>32</td>\n",
       "      <td>1351</td>\n",
       "      <td>NaN</td>\n",
       "      <td>NaN</td>\n",
       "      <td>clothing</td>\n",
       "      <td>credit card</td>\n",
       "      <td>40</td>\n",
       "      <td>54696.18</td>\n",
       "    </tr>\n",
       "    <tr>\n",
       "      <th>400</th>\n",
       "      <td>34</td>\n",
       "      <td>1401</td>\n",
       "      <td>NaN</td>\n",
       "      <td>NaN</td>\n",
       "      <td>clothing</td>\n",
       "      <td>paypal</td>\n",
       "      <td>69</td>\n",
       "      <td>44048.74</td>\n",
       "    </tr>\n",
       "    <tr>\n",
       "      <th>450</th>\n",
       "      <td>29</td>\n",
       "      <td>1451</td>\n",
       "      <td>NaN</td>\n",
       "      <td>NaN</td>\n",
       "      <td>groceries</td>\n",
       "      <td>credit card</td>\n",
       "      <td>29</td>\n",
       "      <td>108651.43</td>\n",
       "    </tr>\n",
       "    <tr>\n",
       "      <th>500</th>\n",
       "      <td>46</td>\n",
       "      <td>1501</td>\n",
       "      <td>NaN</td>\n",
       "      <td>NaN</td>\n",
       "      <td>groceries</td>\n",
       "      <td>debit card</td>\n",
       "      <td>64</td>\n",
       "      <td>100996.90</td>\n",
       "    </tr>\n",
       "    <tr>\n",
       "      <th>550</th>\n",
       "      <td>28</td>\n",
       "      <td>1551</td>\n",
       "      <td>NaN</td>\n",
       "      <td>NaN</td>\n",
       "      <td>groceries</td>\n",
       "      <td>debit card</td>\n",
       "      <td>54</td>\n",
       "      <td>77699.48</td>\n",
       "    </tr>\n",
       "    <tr>\n",
       "      <th>600</th>\n",
       "      <td>16</td>\n",
       "      <td>1601</td>\n",
       "      <td>NaN</td>\n",
       "      <td>NaN</td>\n",
       "      <td>clothing</td>\n",
       "      <td>debit card</td>\n",
       "      <td>45</td>\n",
       "      <td>56530.93</td>\n",
       "    </tr>\n",
       "    <tr>\n",
       "      <th>650</th>\n",
       "      <td>30</td>\n",
       "      <td>1651</td>\n",
       "      <td>NaN</td>\n",
       "      <td>NaN</td>\n",
       "      <td>electronics</td>\n",
       "      <td>debit card</td>\n",
       "      <td>26</td>\n",
       "      <td>75306.24</td>\n",
       "    </tr>\n",
       "    <tr>\n",
       "      <th>700</th>\n",
       "      <td>76</td>\n",
       "      <td>1701</td>\n",
       "      <td>NaN</td>\n",
       "      <td>NaN</td>\n",
       "      <td>groceries</td>\n",
       "      <td>debit card</td>\n",
       "      <td>46</td>\n",
       "      <td>74709.45</td>\n",
       "    </tr>\n",
       "    <tr>\n",
       "      <th>750</th>\n",
       "      <td>56</td>\n",
       "      <td>1751</td>\n",
       "      <td>NaN</td>\n",
       "      <td>NaN</td>\n",
       "      <td>groceries</td>\n",
       "      <td>paypal</td>\n",
       "      <td>36</td>\n",
       "      <td>47649.49</td>\n",
       "    </tr>\n",
       "    <tr>\n",
       "      <th>800</th>\n",
       "      <td>51</td>\n",
       "      <td>1801</td>\n",
       "      <td>NaN</td>\n",
       "      <td>NaN</td>\n",
       "      <td>electronics</td>\n",
       "      <td>paypal</td>\n",
       "      <td>44</td>\n",
       "      <td>108071.10</td>\n",
       "    </tr>\n",
       "    <tr>\n",
       "      <th>850</th>\n",
       "      <td>16</td>\n",
       "      <td>1851</td>\n",
       "      <td>NaN</td>\n",
       "      <td>NaN</td>\n",
       "      <td>groceries</td>\n",
       "      <td>debit card</td>\n",
       "      <td>52</td>\n",
       "      <td>50186.89</td>\n",
       "    </tr>\n",
       "    <tr>\n",
       "      <th>900</th>\n",
       "      <td>86</td>\n",
       "      <td>1901</td>\n",
       "      <td>NaN</td>\n",
       "      <td>NaN</td>\n",
       "      <td>groceries</td>\n",
       "      <td>debit card</td>\n",
       "      <td>61</td>\n",
       "      <td>117368.91</td>\n",
       "    </tr>\n",
       "    <tr>\n",
       "      <th>950</th>\n",
       "      <td>16</td>\n",
       "      <td>1951</td>\n",
       "      <td>NaN</td>\n",
       "      <td>NaN</td>\n",
       "      <td>clothing</td>\n",
       "      <td>paypal</td>\n",
       "      <td>54</td>\n",
       "      <td>108619.25</td>\n",
       "    </tr>\n",
       "    <tr>\n",
       "      <th>1000</th>\n",
       "      <td>74</td>\n",
       "      <td>1001</td>\n",
       "      <td>NaN</td>\n",
       "      <td>NaN</td>\n",
       "      <td>groceries</td>\n",
       "      <td>debit card</td>\n",
       "      <td>62</td>\n",
       "      <td>47401.75</td>\n",
       "    </tr>\n",
       "  </tbody>\n",
       "</table>\n",
       "</div>"
      ],
      "text/plain": [
       "      customer_id  transaction_id transaction_date  amount product_category  \\\n",
       "0              74            1001              NaN     NaN        groceries   \n",
       "50             76            1051              NaN     NaN        groceries   \n",
       "100            40            1101              NaN     NaN        groceries   \n",
       "150            76            1151              NaN     NaN         clothing   \n",
       "200             6            1201              NaN     NaN        groceries   \n",
       "250            26            1251              NaN     NaN        groceries   \n",
       "300            84            1301              NaN     NaN      electronics   \n",
       "350            32            1351              NaN     NaN         clothing   \n",
       "400            34            1401              NaN     NaN         clothing   \n",
       "450            29            1451              NaN     NaN        groceries   \n",
       "500            46            1501              NaN     NaN        groceries   \n",
       "550            28            1551              NaN     NaN        groceries   \n",
       "600            16            1601              NaN     NaN         clothing   \n",
       "650            30            1651              NaN     NaN      electronics   \n",
       "700            76            1701              NaN     NaN        groceries   \n",
       "750            56            1751              NaN     NaN        groceries   \n",
       "800            51            1801              NaN     NaN      electronics   \n",
       "850            16            1851              NaN     NaN        groceries   \n",
       "900            86            1901              NaN     NaN        groceries   \n",
       "950            16            1951              NaN     NaN         clothing   \n",
       "1000           74            1001              NaN     NaN        groceries   \n",
       "\n",
       "     payment_method  customer_age  customer_income  \n",
       "0        debit card            62         47401.75  \n",
       "50           paypal            58        105611.17  \n",
       "100     credit card            32         46895.86  \n",
       "150          paypal            35         77263.07  \n",
       "200      debit card            33         62488.79  \n",
       "250          paypal            29         49280.11  \n",
       "300          paypal            60        110664.35  \n",
       "350     credit card            40         54696.18  \n",
       "400          paypal            69         44048.74  \n",
       "450     credit card            29        108651.43  \n",
       "500      debit card            64        100996.90  \n",
       "550      debit card            54         77699.48  \n",
       "600      debit card            45         56530.93  \n",
       "650      debit card            26         75306.24  \n",
       "700      debit card            46         74709.45  \n",
       "750          paypal            36         47649.49  \n",
       "800          paypal            44        108071.10  \n",
       "850      debit card            52         50186.89  \n",
       "900      debit card            61        117368.91  \n",
       "950          paypal            54        108619.25  \n",
       "1000     debit card            62         47401.75  "
      ]
     },
     "execution_count": 10,
     "metadata": {},
     "output_type": "execute_result"
    }
   ],
   "source": [
    "# Show some rows with null to undertand the issue with nulls and decide how to fix them (deletion? imputation?)\n",
    "df_transactions[df_transactions.isnull().any(axis=1)]"
   ]
  },
  {
   "cell_type": "markdown",
   "id": "1fd707b9",
   "metadata": {},
   "source": [
    "Notes:\n",
    "- There is a pattern in the transactions with missing values. Each 50 rows a transaction is incompletely recorded.\n",
    "- `transaction_date` does not increase with `transaction_id`, so it cannot be guessed\n",
    "- Questions: Do we want a transaction without a date and amount? Does it makes sense to fill the amount with the mean? --> **Decision**: Remove all these rows to avoid future errors in operations. The deletion does not affect to other rows."
   ]
  },
  {
   "cell_type": "code",
   "execution_count": 11,
   "id": "fc7c4575",
   "metadata": {},
   "outputs": [
    {
     "name": "stdout",
     "output_type": "stream",
     "text": [
      "<class 'pandas.core.frame.DataFrame'>\n",
      "Index: 989 entries, 1 to 1009\n",
      "Data columns (total 8 columns):\n",
      " #   Column            Non-Null Count  Dtype   \n",
      "---  ------            --------------  -----   \n",
      " 0   customer_id       989 non-null    int64   \n",
      " 1   transaction_id    989 non-null    int64   \n",
      " 2   transaction_date  989 non-null    object  \n",
      " 3   amount            989 non-null    float64 \n",
      " 4   product_category  989 non-null    category\n",
      " 5   payment_method    989 non-null    category\n",
      " 6   customer_age      989 non-null    int64   \n",
      " 7   customer_income   989 non-null    float64 \n",
      "dtypes: category(2), float64(2), int64(3), object(1)\n",
      "memory usage: 56.4+ KB\n"
     ]
    }
   ],
   "source": [
    "df_transactions = df_transactions.dropna()\n",
    "df_transactions.info()"
   ]
  },
  {
   "cell_type": "markdown",
   "id": "0a55d9b1",
   "metadata": {},
   "source": [
    "Note: the dataframe size is now 989 and is free of nulls values"
   ]
  },
  {
   "cell_type": "markdown",
   "id": "35dc6b65",
   "metadata": {},
   "source": [
    "# Checks on columns values"
   ]
  },
  {
   "cell_type": "markdown",
   "id": "b94fb5ed",
   "metadata": {},
   "source": [
    "## Identifier columns"
   ]
  },
  {
   "cell_type": "code",
   "execution_count": 12,
   "id": "beb5311f",
   "metadata": {},
   "outputs": [
    {
     "name": "stdout",
     "output_type": "stream",
     "text": [
      "The dataset contains 2 id columns: customer_id,transaction_id\n"
     ]
    }
   ],
   "source": [
    "# Identifiers are stored as object to avoid using them in operations and visualizations\n",
    "# Using integers as data types improve performance and storage efficiency but since the dataset is small we can use object type \n",
    "ID_COLUMNS = [\"customer_id\", \"transaction_id\"]\n",
    "print(\"The dataset contains {} id columns: {}\".format(len(ID_COLUMNS), \",\".join(ID_COLUMNS)))"
   ]
  },
  {
   "cell_type": "code",
   "execution_count": 13,
   "id": "2fc52350",
   "metadata": {},
   "outputs": [
    {
     "name": "stdout",
     "output_type": "stream",
     "text": [
      "Column 'customer_id' has 889 duplicates values\n",
      "Column 'transaction_id' has 9 duplicates values\n"
     ]
    }
   ],
   "source": [
    "for col_ in ID_COLUMNS:\n",
    "    df_transactions[col_] = df_transactions[col_].astype(object)\n",
    "    print(\"Column '{}' has {} duplicates values\".format(col_,\n",
    "                                  df_transactions[col_].duplicated().sum()))"
   ]
  },
  {
   "cell_type": "markdown",
   "id": "e7566a4d",
   "metadata": {},
   "source": [
    "<font color=\"black\"> Notes on the uniqueness of the identifiers: </font>\n",
    "\n",
    "- Column `customer_id` is allowed to appear more than once since a customer can perform more than one transaction\n",
    "- Each transaction is assigned an unique identifier and, therefore, column `transaction_id` must not have duplicated values. `transaction_id` is the primary key in the transactions dataset."
   ]
  },
  {
   "cell_type": "code",
   "execution_count": 14,
   "id": "447bde3d",
   "metadata": {},
   "outputs": [
    {
     "name": "stdout",
     "output_type": "stream",
     "text": [
      "Column 'customer_id' has 880 duplicates values\n",
      "Column 'transaction_id' has 0 duplicates values\n"
     ]
    }
   ],
   "source": [
    "# First of all, take rid of duplicated rows and repeat the check\n",
    "df_transactions = df_transactions.drop_duplicates()\n",
    "for col_ in ID_COLUMNS:\n",
    "    print(\"Column '{}' has {} duplicates values\".format(col_,\n",
    "                                  df_transactions[col_].duplicated().sum()))"
   ]
  },
  {
   "cell_type": "markdown",
   "id": "ce48207d",
   "metadata": {},
   "source": [
    "Comment: Corrected the duplicated values on `transaction_id` column. Note that now the dataframe has 9 rows less than before."
   ]
  },
  {
   "cell_type": "code",
   "execution_count": 15,
   "id": "68fc0219",
   "metadata": {},
   "outputs": [
    {
     "name": "stdout",
     "output_type": "stream",
     "text": [
      "Number of columns:  8\n",
      "Number of rows:  980\n"
     ]
    }
   ],
   "source": [
    "print(\"Number of columns: \", df_transactions.shape[1])\n",
    "print(\"Number of rows: \", df_transactions.shape[0])"
   ]
  },
  {
   "cell_type": "markdown",
   "id": "4bc90b62",
   "metadata": {},
   "source": [
    "## Categorical columns"
   ]
  },
  {
   "cell_type": "code",
   "execution_count": 16,
   "id": "f5635ff8",
   "metadata": {},
   "outputs": [
    {
     "data": {
      "text/plain": [
       "customer_id           object\n",
       "transaction_id        object\n",
       "transaction_date      object\n",
       "amount               float64\n",
       "product_category    category\n",
       "payment_method      category\n",
       "customer_age           int64\n",
       "customer_income      float64\n",
       "dtype: object"
      ]
     },
     "execution_count": 16,
     "metadata": {},
     "output_type": "execute_result"
    }
   ],
   "source": [
    "df_transactions.dtypes"
   ]
  },
  {
   "cell_type": "code",
   "execution_count": 17,
   "id": "e78c8dc5",
   "metadata": {},
   "outputs": [
    {
     "name": "stdout",
     "output_type": "stream",
     "text": [
      "The dataset contains 2 categorical columns: product_category,payment_method\n"
     ]
    }
   ],
   "source": [
    "CATEG_COLUMNS = list(df_transactions.select_dtypes(include=[\"category\"]).columns)\n",
    "print(\"The dataset contains {} categorical columns: {}\".format(len(CATEG_COLUMNS), \",\".join(CATEG_COLUMNS)))"
   ]
  },
  {
   "cell_type": "code",
   "execution_count": 18,
   "id": "61ba7b88",
   "metadata": {},
   "outputs": [
    {
     "name": "stdout",
     "output_type": "stream",
     "text": [
      "Column 'product_category' has 3 values: clothing, electronics, groceries\n",
      "Column 'payment_method' has 3 values: paypal, debit_card, credit_card\n"
     ]
    }
   ],
   "source": [
    "for col_ in CATEG_COLUMNS:\n",
    "    # Standardize to lower case, replacing spaces with underscore\n",
    "    df_transactions[col_] = df_transactions[col_].str.replace(' ', '_').str.lower()\n",
    "    print(\"Column '{}' has {} values: {}\".format(col_,\n",
    "                                                 df_transactions[col_].nunique(), \n",
    "                                                 \", \".join(df_transactions[col_].unique())))"
   ]
  },
  {
   "cell_type": "markdown",
   "id": "64820646",
   "metadata": {},
   "source": [
    "## Date columns"
   ]
  },
  {
   "cell_type": "code",
   "execution_count": 19,
   "id": "594f0d55",
   "metadata": {},
   "outputs": [
    {
     "data": {
      "text/plain": [
       "customer_id                 object\n",
       "transaction_id              object\n",
       "transaction_date    datetime64[ns]\n",
       "amount                     float64\n",
       "product_category            object\n",
       "payment_method              object\n",
       "customer_age                 int64\n",
       "customer_income            float64\n",
       "dtype: object"
      ]
     },
     "execution_count": 19,
     "metadata": {},
     "output_type": "execute_result"
    }
   ],
   "source": [
    "DATE_COLUMNS = [\"transaction_date\"]\n",
    "# Convert to datetime format to make easier working with dates (e.g. compute diff days)\n",
    "# Check if all the values has the same format yyyy-mm-dd\n",
    "\n",
    "try:\n",
    "    df_transactions[\"transaction_date\"] = df_transactions[\"transaction_date\"].apply(lambda dd: dt.datetime.strptime(dd, \"%Y-%m-%d\"))\n",
    "except:\n",
    "    print(\"Some rows contains an incorrect value\")\n",
    "\n",
    "df_transactions.dtypes"
   ]
  },
  {
   "cell_type": "markdown",
   "id": "8c612e28",
   "metadata": {},
   "source": [
    "## Numerical columns"
   ]
  },
  {
   "cell_type": "code",
   "execution_count": 20,
   "id": "0deb12a1",
   "metadata": {},
   "outputs": [],
   "source": [
    "# Since pandas has assigned these columns int64/float64 type we conclude there are not mixed types. Let's check the value is in the expected range.\n",
    "NUMERICAL_COLUMNS = [\"amount\", \"customer_age\", \"customer_income\"]\n",
    "\n",
    "# Transaction amount must be greater than 0\n",
    "col_ = \"amount\"\n",
    "assert df_transactions.loc[df_transactions[col_] <= 0,col_].count() == 0\n",
    "\n",
    "# Customer age must be greater than or equal to 18\n",
    "col_ = \"customer_age\"\n",
    "assert df_transactions.loc[df_transactions[col_] < 18,col_].count() == 0\n",
    "\n",
    "# Customer income must be greater than 0\n",
    "col_ = \"customer_income\"\n",
    "assert df_transactions.loc[df_transactions[col_] < 0,col_].count() == 0\n",
    "\n",
    "# Empty output means the assert was success"
   ]
  },
  {
   "cell_type": "markdown",
   "id": "623c3002",
   "metadata": {},
   "source": [
    "### Outliers"
   ]
  },
  {
   "cell_type": "code",
   "execution_count": 21,
   "id": "0a7bed9c",
   "metadata": {},
   "outputs": [
    {
     "name": "stdout",
     "output_type": "stream",
     "text": [
      "Column amount has 0.0 outliers\n",
      "Column customer_age has 0 outliers\n",
      "Column customer_income has 0.0 outliers\n"
     ]
    }
   ],
   "source": [
    "# Use the IQR method to identify outliers\n",
    "# Any observations that are more than 1.5 IQR below Q1 or more than 1.5 IQR above Q3 are considered outliers.\n",
    "df_stats = df_transactions.describe(percentiles=[.25, .5,.75 ])\n",
    "df_stats.loc[\"IQR\",:] = df_stats.loc[\"75%\",:] - df_stats.loc[\"25%\",:]\n",
    "df_stats.loc[\"Q1 - 1.5*IQR\",:] = df_stats.loc[\"25%\",:] - 1.5 * df_stats.loc[\"IQR\",:]\n",
    "df_stats.loc[\"Q3 + 1.5*IQR\",:] = df_stats.loc[\"75%\",:] + 1.5 * df_stats.loc[\"IQR\",:]\n",
    "\n",
    "for col_ in NUMERICAL_COLUMNS:\n",
    "        min_lim = df_stats.loc[\"Q1 - 1.5*IQR\",col_]\n",
    "        max_lim = df_stats.loc[\"Q3 + 1.5*IQR\",col_]\n",
    "        print(\"Column {} has {} outliers\".format(col_,\n",
    "                                                 df_transactions.loc[(df_transactions[col_]<=min_lim) | (df_transactions[col_]>=max_lim),col_].sum()))\n",
    "   \n",
    "   "
   ]
  },
  {
   "cell_type": "markdown",
   "id": "cdf21482",
   "metadata": {},
   "source": [
    "Note: Numeric columns do not have outliers"
   ]
  },
  {
   "cell_type": "markdown",
   "id": "9260abf3",
   "metadata": {},
   "source": [
    "## Cross customer_id with customer_age and customer_income"
   ]
  },
  {
   "cell_type": "code",
   "execution_count": 22,
   "id": "92636495",
   "metadata": {},
   "outputs": [
    {
     "data": {
      "text/html": [
       "<div>\n",
       "<style scoped>\n",
       "    .dataframe tbody tr th:only-of-type {\n",
       "        vertical-align: middle;\n",
       "    }\n",
       "\n",
       "    .dataframe tbody tr th {\n",
       "        vertical-align: top;\n",
       "    }\n",
       "\n",
       "    .dataframe thead th {\n",
       "        text-align: right;\n",
       "    }\n",
       "</style>\n",
       "<table border=\"1\" class=\"dataframe\">\n",
       "  <thead>\n",
       "    <tr style=\"text-align: right;\">\n",
       "      <th></th>\n",
       "      <th>customer_age</th>\n",
       "      <th>customer_income</th>\n",
       "    </tr>\n",
       "    <tr>\n",
       "      <th>customer_id</th>\n",
       "      <th></th>\n",
       "      <th></th>\n",
       "    </tr>\n",
       "  </thead>\n",
       "  <tbody>\n",
       "    <tr>\n",
       "      <th>1</th>\n",
       "      <td>7</td>\n",
       "      <td>8</td>\n",
       "    </tr>\n",
       "    <tr>\n",
       "      <th>2</th>\n",
       "      <td>7</td>\n",
       "      <td>8</td>\n",
       "    </tr>\n",
       "    <tr>\n",
       "      <th>3</th>\n",
       "      <td>5</td>\n",
       "      <td>6</td>\n",
       "    </tr>\n",
       "    <tr>\n",
       "      <th>4</th>\n",
       "      <td>11</td>\n",
       "      <td>12</td>\n",
       "    </tr>\n",
       "    <tr>\n",
       "      <th>5</th>\n",
       "      <td>10</td>\n",
       "      <td>11</td>\n",
       "    </tr>\n",
       "    <tr>\n",
       "      <th>...</th>\n",
       "      <td>...</td>\n",
       "      <td>...</td>\n",
       "    </tr>\n",
       "    <tr>\n",
       "      <th>96</th>\n",
       "      <td>7</td>\n",
       "      <td>8</td>\n",
       "    </tr>\n",
       "    <tr>\n",
       "      <th>97</th>\n",
       "      <td>7</td>\n",
       "      <td>7</td>\n",
       "    </tr>\n",
       "    <tr>\n",
       "      <th>98</th>\n",
       "      <td>10</td>\n",
       "      <td>10</td>\n",
       "    </tr>\n",
       "    <tr>\n",
       "      <th>99</th>\n",
       "      <td>6</td>\n",
       "      <td>6</td>\n",
       "    </tr>\n",
       "    <tr>\n",
       "      <th>100</th>\n",
       "      <td>7</td>\n",
       "      <td>8</td>\n",
       "    </tr>\n",
       "  </tbody>\n",
       "</table>\n",
       "<p>100 rows × 2 columns</p>\n",
       "</div>"
      ],
      "text/plain": [
       "             customer_age  customer_income\n",
       "customer_id                               \n",
       "1                       7                8\n",
       "2                       7                8\n",
       "3                       5                6\n",
       "4                      11               12\n",
       "5                      10               11\n",
       "...                   ...              ...\n",
       "96                      7                8\n",
       "97                      7                7\n",
       "98                     10               10\n",
       "99                      6                6\n",
       "100                     7                8\n",
       "\n",
       "[100 rows x 2 columns]"
      ]
     },
     "execution_count": 22,
     "metadata": {},
     "output_type": "execute_result"
    }
   ],
   "source": [
    "# Count for each customer_id the number of unique values for customer_age and customer_income\n",
    "df_transactions.groupby([\"customer_id\"]).agg({\"customer_age\" : 'nunique',\n",
    "                                              \"customer_income\" : 'nunique'})"
   ]
  },
  {
   "cell_type": "code",
   "execution_count": 31,
   "id": "2a6b7d8f",
   "metadata": {},
   "outputs": [
    {
     "data": {
      "text/html": [
       "<div>\n",
       "<style scoped>\n",
       "    .dataframe tbody tr th:only-of-type {\n",
       "        vertical-align: middle;\n",
       "    }\n",
       "\n",
       "    .dataframe tbody tr th {\n",
       "        vertical-align: top;\n",
       "    }\n",
       "\n",
       "    .dataframe thead th {\n",
       "        text-align: right;\n",
       "    }\n",
       "</style>\n",
       "<table border=\"1\" class=\"dataframe\">\n",
       "  <thead>\n",
       "    <tr style=\"text-align: right;\">\n",
       "      <th></th>\n",
       "      <th>transaction_date</th>\n",
       "      <th>customer_age</th>\n",
       "      <th>customer_income</th>\n",
       "    </tr>\n",
       "  </thead>\n",
       "  <tbody>\n",
       "    <tr>\n",
       "      <th>698</th>\n",
       "      <td>2023-09-15</td>\n",
       "      <td>43</td>\n",
       "      <td>116323.81</td>\n",
       "    </tr>\n",
       "    <tr>\n",
       "      <th>180</th>\n",
       "      <td>2023-11-09</td>\n",
       "      <td>24</td>\n",
       "      <td>91336.85</td>\n",
       "    </tr>\n",
       "    <tr>\n",
       "      <th>278</th>\n",
       "      <td>2023-12-07</td>\n",
       "      <td>26</td>\n",
       "      <td>22127.70</td>\n",
       "    </tr>\n",
       "    <tr>\n",
       "      <th>846</th>\n",
       "      <td>2024-01-16</td>\n",
       "      <td>60</td>\n",
       "      <td>26894.56</td>\n",
       "    </tr>\n",
       "    <tr>\n",
       "      <th>446</th>\n",
       "      <td>2024-03-19</td>\n",
       "      <td>62</td>\n",
       "      <td>22516.76</td>\n",
       "    </tr>\n",
       "    <tr>\n",
       "      <th>818</th>\n",
       "      <td>2024-04-18</td>\n",
       "      <td>36</td>\n",
       "      <td>100291.40</td>\n",
       "    </tr>\n",
       "    <tr>\n",
       "      <th>726</th>\n",
       "      <td>2024-04-25</td>\n",
       "      <td>24</td>\n",
       "      <td>96152.29</td>\n",
       "    </tr>\n",
       "    <tr>\n",
       "      <th>864</th>\n",
       "      <td>2024-04-30</td>\n",
       "      <td>37</td>\n",
       "      <td>89794.76</td>\n",
       "    </tr>\n",
       "    <tr>\n",
       "      <th>947</th>\n",
       "      <td>2024-05-12</td>\n",
       "      <td>33</td>\n",
       "      <td>34089.18</td>\n",
       "    </tr>\n",
       "    <tr>\n",
       "      <th>655</th>\n",
       "      <td>2024-06-05</td>\n",
       "      <td>34</td>\n",
       "      <td>105903.04</td>\n",
       "    </tr>\n",
       "    <tr>\n",
       "      <th>882</th>\n",
       "      <td>2024-07-03</td>\n",
       "      <td>28</td>\n",
       "      <td>69336.10</td>\n",
       "    </tr>\n",
       "  </tbody>\n",
       "</table>\n",
       "</div>"
      ],
      "text/plain": [
       "    transaction_date  customer_age  customer_income\n",
       "698       2023-09-15            43        116323.81\n",
       "180       2023-11-09            24         91336.85\n",
       "278       2023-12-07            26         22127.70\n",
       "846       2024-01-16            60         26894.56\n",
       "446       2024-03-19            62         22516.76\n",
       "818       2024-04-18            36        100291.40\n",
       "726       2024-04-25            24         96152.29\n",
       "864       2024-04-30            37         89794.76\n",
       "947       2024-05-12            33         34089.18\n",
       "655       2024-06-05            34        105903.04\n",
       "882       2024-07-03            28         69336.10"
      ]
     },
     "execution_count": 31,
     "metadata": {},
     "output_type": "execute_result"
    }
   ],
   "source": [
    "df_transactions[df_transactions.customer_id==5][[\"transaction_date\", \"customer_age\", \"customer_income\"]].sort_values(by=\"transaction_date\")"
   ]
  },
  {
   "cell_type": "markdown",
   "id": "2df130e1",
   "metadata": {},
   "source": [
    "<div class=\"alert alert-block alert-warning\">\n",
    "<img src=\"./images/warning.png\" align=\"left\" style=\"float\" width=\"40\">\n",
    "\n",
    "<b>Comments:</b> \n",
    "- Every `customer_id` has different values of `customer_age`/`customer_income`. Incoherent data\n",
    "</div>"
   ]
  },
  {
   "cell_type": "markdown",
   "id": "b1e5559c",
   "metadata": {},
   "source": [
    "## Extra check"
   ]
  },
  {
   "cell_type": "code",
   "execution_count": 23,
   "id": "ab749025",
   "metadata": {},
   "outputs": [],
   "source": [
    "assert set(df_transactions.columns) == set(ID_COLUMNS + DATE_COLUMNS + NUMERICAL_COLUMNS + CATEG_COLUMNS) "
   ]
  },
  {
   "cell_type": "markdown",
   "id": "2f45cb24",
   "metadata": {},
   "source": [
    "# Statistics"
   ]
  },
  {
   "cell_type": "markdown",
   "id": "938db17e",
   "metadata": {},
   "source": [
    "## Numerical columns"
   ]
  },
  {
   "cell_type": "code",
   "execution_count": 24,
   "id": "5af499dd",
   "metadata": {},
   "outputs": [
    {
     "name": "stdout",
     "output_type": "stream",
     "text": [
      "                    transaction_date       amount  customer_age  \\\n",
      "count                            980   980.000000    980.000000   \n",
      "mean   2024-01-23 03:11:01.224489728   987.445797     43.591837   \n",
      "min              2023-07-31 00:00:00   248.789798     18.000000   \n",
      "25%              2023-10-22 18:00:00   733.025665     31.000000   \n",
      "50%              2024-01-20 12:00:00   977.323605     43.000000   \n",
      "75%              2024-04-24 06:00:00  1250.867241     57.000000   \n",
      "max              2024-07-29 00:00:00  1679.681855     69.000000   \n",
      "std                              NaN   333.311043     15.054980   \n",
      "\n",
      "       customer_income  \n",
      "count       980.000000  \n",
      "mean      70979.102439  \n",
      "min       20111.770000  \n",
      "25%       46297.972500  \n",
      "50%       70464.155000  \n",
      "75%       95933.470000  \n",
      "max      119941.300000  \n",
      "std       28854.582116  \n"
     ]
    }
   ],
   "source": [
    "summary_stats = df_transactions.describe() # describe() only consider int64/float64/datetime columns\n",
    "print(summary_stats)"
   ]
  },
  {
   "cell_type": "markdown",
   "id": "c883939b",
   "metadata": {},
   "source": [
    "Notes:\n",
    "\n",
    "-`customer_age` goes from 18 to 69, with 43 as mean\n",
    "\n",
    "-`customer_income`ranges from ~20k to ~120k\n",
    "\n",
    "-transaction `amount`goes from ~250 to ~1680    "
   ]
  },
  {
   "cell_type": "code",
   "execution_count": 25,
   "id": "f91da87e",
   "metadata": {},
   "outputs": [
    {
     "data": {
      "image/png": "[encoded data removed]",
      "text/plain": [
       "<Figure size 3000x1000 with 3 Axes>"
      ]
     },
     "metadata": {},
     "output_type": "display_data"
    }
   ],
   "source": [
    "ax = df_transactions[NUMERICAL_COLUMNS].hist(bins = 10, \n",
    "                     figsize = (30,10), #width, height\n",
    "                     color = '#e01760', layout=(1,3))\n",
    "\n",
    "for axs in ax.flatten():\n",
    "    axs.set_title(axs.get_title(), fontsize=28)  \n",
    "    axs.set_xlabel(axs.get_xlabel(), fontsize=18)  \n",
    "    axs.set_ylabel(axs.get_ylabel(), fontsize=18) \n",
    "    \n",
    "    axs.tick_params(axis='x', labelsize=16)\n",
    "    axs.tick_params(axis='y', labelsize=16)\n",
    "\n",
    "plt.grid(True)\n",
    "plt.show()\n",
    "\n",
    "fig = ax[0][0].get_figure()\n",
    "fig.savefig(\"../output/part1/numerical_hist.png\")"
   ]
  },
  {
   "cell_type": "markdown",
   "id": "bbd3cd3d",
   "metadata": {},
   "source": [
    "Notes:\n",
    "\n",
    "- The distribution of `amount` is approximately normal, with a mean of ~1000 and a standard deviation of ~300\n",
    "- There is no apparent mode in the distribution of `customer_income`, indicating a lack of concentration in any particular value\n",
    "- The distribution of `customer_age` is relatively flat, suggesting a uniform distribution across the observed range."
   ]
  },
  {
   "cell_type": "code",
   "execution_count": 26,
   "id": "d00d70b5",
   "metadata": {},
   "outputs": [
    {
     "data": {
      "image/png": "[encoded data removed]",
      "text/plain": [
       "<Figure size 3000x800 with 3 Axes>"
      ]
     },
     "metadata": {},
     "output_type": "display_data"
    }
   ],
   "source": [
    "fig=plt.figure(figsize = (30,8))\n",
    "for idx,col_ in enumerate(NUMERICAL_COLUMNS):\n",
    "    ax=plt.subplot(1,len(NUMERICAL_COLUMNS),idx+1)\n",
    "    if not col_ in df_stats.columns:\n",
    "        continue\n",
    "    box_props = dict(linestyle='-', linewidth=4, color=PINK_RGB)\n",
    "\n",
    "    bp = df_transactions.boxplot(column=[col_], sym='.', color = '#e01760', boxprops=box_props, \n",
    "             flierprops=box_props,\n",
    "             medianprops=box_props,\n",
    "             whiskerprops=box_props,\n",
    "             capprops=box_props,\n",
    "             showfliers=False, grid=True, rot=0)\n",
    "    \n",
    "    #plt.axhline(y=df_stats.loc[\"Q1 - 1.5*IQR\",col_], color='grey', linestyle=\"--\", linewidth=2, label=\"hola\")\n",
    "    #plt.axhline(y=df_stats.loc[\"Q3 + 1.5*IQR\",col_], color='grey', linestyle=\"--\",  linewidth=2)\n",
    "    \n",
    "    ax.set_title(axs.get_title(), fontsize=28)  \n",
    "    ax.set_xlabel(axs.get_xlabel(), fontsize=18)  \n",
    "    ax.set_ylabel(axs.get_ylabel(), fontsize=18) \n",
    "\n",
    "    ax.tick_params(axis='x', labelsize=16)\n",
    "    ax.tick_params(axis='y', labelsize=16)\n",
    "    \n",
    "    \n",
    "plt.show()\n",
    "fig.savefig(\"../output/part1/numerical_boxplot.png\")"
   ]
  },
  {
   "cell_type": "markdown",
   "id": "215d0097",
   "metadata": {},
   "source": [
    "Note: No outliers"
   ]
  },
  {
   "cell_type": "markdown",
   "id": "f48c9819",
   "metadata": {},
   "source": [
    "###  Correlation matrix"
   ]
  },
  {
   "cell_type": "code",
   "execution_count": 27,
   "id": "f6813499",
   "metadata": {},
   "outputs": [
    {
     "ename": "TypeError",
     "evalue": "'Figure' object is not subscriptable",
     "output_type": "error",
     "traceback": [
      "\u001b[0;31m---------------------------------------------------------------------------\u001b[0m",
      "\u001b[0;31mTypeError\u001b[0m                                 Traceback (most recent call last)",
      "Cell \u001b[0;32mIn[27], line 1\u001b[0m\n\u001b[0;32m----> 1\u001b[0m \u001b[38;5;28mtype\u001b[39m(\u001b[43mfig\u001b[49m\u001b[43m[\u001b[49m\u001b[38;5;241;43m0\u001b[39;49m\u001b[43m]\u001b[49m[\u001b[38;5;241m0\u001b[39m])\n",
      "\u001b[0;31mTypeError\u001b[0m: 'Figure' object is not subscriptable"
     ]
    }
   ],
   "source": [
    "type(fig[0][0])"
   ]
  },
  {
   "cell_type": "code",
   "execution_count": null,
   "id": "59f9f671",
   "metadata": {},
   "outputs": [],
   "source": [
    "\n",
    "\n",
    "df = df_transactions[NUMERICAL_COLUMNS]\n",
    "fig = plt.figure(figsize=(20,5))\n",
    "axs=pd.plotting.scatter_matrix(df, figsize=(10, 10), color=PINK_RGB, hist_kwds={'color':MED_BLUE})\n",
    "plt.show()\n",
    "fig = axs[0][0].get_figure()\n",
    "\n",
    "fig.savefig(\"../output/part1/numerical_hist_correlation.png\")\n",
    "\n",
    "\n"
   ]
  },
  {
   "cell_type": "markdown",
   "id": "fff05189",
   "metadata": {},
   "source": [
    "## Time series for product_category and payment_method"
   ]
  },
  {
   "cell_type": "code",
   "execution_count": null,
   "id": "9edd6570",
   "metadata": {},
   "outputs": [],
   "source": [
    "df_transactions[\"date\"] = df_transactions[\"transaction_date\"].apply(lambda dd: dd.strftime(\"%Y%m\"))\n",
    "\n",
    "df_g = pd.DataFrame({\"amount_total\" : df_transactions.groupby([\"date\"], as_index=True)[\"amount\"].sum(),\n",
    "                     \"clothing\" : df_transactions[df_transactions[\"product_category\"]==\"clothing\"].groupby([\"date\"], as_index=True)[\"amount\"].sum(),\n",
    "                     \"electronics\" : df_transactions[df_transactions[\"product_category\"]==\"electronics\"].groupby([\"date\"], as_index=True)[\"amount\"].sum(),\n",
    "                     \"groceries\" : df_transactions[df_transactions[\"product_category\"]==\"groceries\"].groupby([\"date\"], as_index=True)[\"amount\"].sum(),\n",
    "                     \"paypal\" : df_transactions[df_transactions[\"payment_method\"]==\"paypal\"].groupby([\"date\"], as_index=True)[\"amount\"].sum(),\n",
    "                     \"debit_card\" : df_transactions[df_transactions[\"payment_method\"]==\"debit_card\"].groupby([\"date\"], as_index=True)[\"amount\"].sum(),\n",
    "                     \"credit_card\" : df_transactions[df_transactions[\"payment_method\"]==\"credit_card\"].groupby([\"date\"], as_index=True)[\"amount\"].sum()\n",
    "                    })\n",
    "\n",
    "df_g.reset_index(inplace=True)\n",
    "\n",
    "dates = list(df_g[\"date\"])\n",
    "amount_total = list(df_g[\"amount_total\"])\n",
    "clothing_amount = list(df_g[\"clothing\"])\n",
    "electronics = list(df_g[\"electronics\"])\n",
    "groceries = list(df_g[\"groceries\"])\n",
    "\n",
    "paypal_amount = list(df_g[\"paypal\"])\n",
    "debit_card = list(df_g[\"debit_card\"])\n",
    "credit_card = list(df_g[\"credit_card\"])\n",
    "\n",
    "fig = plt.figure(figsize=(20,10))\n",
    "\n",
    "ax1 = fig.add_subplot(211)\n",
    "plt.plot(dates,amount_total, \"k\", alpha=0.5, label=\"total\", linewidth=2)\n",
    "plt.plot(dates,clothing_amount, PINK_RGB, alpha=0.5, label=\"clothing\", linewidth=2)\n",
    "plt.plot(dates,electronics, DARK_BLUE,  alpha=0.5, label=\"electronics\", linewidth=2)\n",
    "plt.plot(dates,groceries, MED_BLUE,  alpha=0.5, label=\"groceries\", linewidth=2)\n",
    "plt.legend(bbox_to_anchor=(1, 0.99), loc=1, borderaxespad=0., fontsize=\"12\", fancybox=True, shadow=True, ncol=5)\n",
    "\n",
    "\n",
    "ax1.set_xlabel(\"\", fontsize=20)  \n",
    "ax1.set_ylabel(\"Product Category\", fontsize=20)  \n",
    "ax1.tick_params(axis='x', labelsize=16)\n",
    "ax1.tick_params(axis='y', labelsize=16)\n",
    "\n",
    "ax2 = fig.add_subplot(212)\n",
    "plt.plot(dates,amount_total, \"k\", alpha=0.5, label=\"total\", linewidth=2)\n",
    "plt.plot(dates,paypal_amount, PINK_RGB, alpha=0.5, label=\"paypal\", linewidth=2)\n",
    "plt.plot(dates,debit_card, DARK_BLUE,  alpha=0.5, label=\"debit_card\", linewidth=2)\n",
    "plt.plot(dates,credit_card, MED_BLUE,  alpha=0.5, label=\"credit_card\", linewidth=2)\n",
    "plt.legend(bbox_to_anchor=(1, 0.99), loc=1, borderaxespad=0., fontsize=\"12\", fancybox=True, shadow=True, ncol=5)\n",
    "\n",
    "ax2.set_xlabel(\"month\", fontsize=20)  \n",
    "ax2.set_ylabel(\"Payment Method\", fontsize=20)  \n",
    "ax2.tick_params(axis='x', labelsize=16)\n",
    "ax2.tick_params(axis='y', labelsize=16)\n",
    "\n",
    "\n",
    "plt.tight_layout()\n",
    "plt.show()\n",
    "\n",
    "fig.savefig(\"../output/part1/time_series.png\")\n"
   ]
  },
  {
   "cell_type": "markdown",
   "id": "147fd984",
   "metadata": {},
   "source": [
    "Note: `amount` does not change significantly with date.  "
   ]
  },
  {
   "cell_type": "markdown",
   "id": "25590bd6",
   "metadata": {},
   "source": [
    "## Categorical"
   ]
  },
  {
   "cell_type": "code",
   "execution_count": null,
   "id": "a149c028",
   "metadata": {},
   "outputs": [],
   "source": [
    "df_pivot = pd.pivot_table(df_transactions[CATEG_COLUMNS],\n",
    "                          columns=\"product_category\",\n",
    "                          aggfunc=pd.Series.count, index=\"payment_method\"\n",
    ")\n",
    "\n",
    "color_list = [PINK_RGB, DARK_BLUE, MED_BLUE]\n",
    "\n",
    "width = .35 # width of a bar\n",
    "\n",
    "\n",
    "# Plot a bar chart using the DF\n",
    "ax = df_pivot.plot(kind=\"bar\", color=color_list, width = width)\n",
    "fig = ax.get_figure()\n",
    "fig.set_size_inches(17, 6)\n",
    "ax.set_xlabel(\"Payment Method\")\n",
    "ax.set_ylabel(\"Number of Transactions\")\n",
    "ax.legend(loc='upper center', bbox_to_anchor=(0.5, -0.10),\n",
    "          fancybox=True, shadow=True, ncol=5)\n",
    "\n",
    "ax.set_title(\"Transactions by payment method and product category\", fontsize=24)  \n",
    "ax.set_xlabel(axs.get_xlabel(), fontsize=20)  \n",
    "ax.set_ylabel(\"Number of transactions\", fontsize=15)\n",
    "plt.xticks(rotation=0)\n",
    "\n",
    "plt.show()\n",
    "\n",
    "fig.savefig(\"../output/part1/categ_barplot.png\")"
   ]
  },
  {
   "cell_type": "code",
   "execution_count": null,
   "id": "39c10d38",
   "metadata": {},
   "outputs": [],
   "source": [
    "fig, ax1 = plt.subplots(figsize=(25,10))\n",
    "\n",
    "df_transactions[\"month\"] = df_transactions[\"transaction_date\"].apply(lambda dd: dd.strftime(\"%Y%m\"))\n",
    "\n",
    "df_transactions.pivot_table(index='month', columns='payment_method', values=\"amount\", aggfunc=\"count\").plot(kind='bar', \n",
    "                                                                                                            ax=ax1,\n",
    "                                                                                                            color=[PINK_RGB,\n",
    "                                                                                                                   \"#6e6e6e\",\n",
    "                                                                                                                   MED_BLUE\n",
    "                                                                                                                  ]\n",
    "\n",
    "                                                                                                       )\n",
    "ax1.legend(fontsize=\"16\", fancybox=True, shadow=True, ncol=5)\n",
    "# Create secondary y-axis\n",
    "ax2 = ax1.twinx()\n",
    "df_transactions.groupby('month')['amount'].sum().plot(ax=ax2, color=DARK_BLUE, linestyle='--', \n",
    "                                                      marker='^', alpha=1, linewidth=3)\n",
    "\n",
    "\n",
    "ax1.set_xlabel(\"month\", fontsize=20)  \n",
    "ax1.tick_params(axis='x', labelsize=16)\n",
    "ax1.tick_params(axis='y', labelsize=16)\n",
    "ax2.tick_params(axis='y', labelsize=16)\n",
    "\n",
    "\n",
    "\n",
    "# Set labels and title\n",
    "ax1.set_ylabel('count', fontsize=18)  \n",
    "ax2.set_ylabel('amount', fontsize=18)  \n",
    "plt.title('Transactions by Month and Payment Method', fontsize=24)  \n",
    "plt.show()\n",
    "\n",
    "\n",
    "fig.savefig(\"../output/part1/transactions_month_payment.png\")"
   ]
  },
  {
   "cell_type": "markdown",
   "id": "9cbb07f8",
   "metadata": {},
   "source": [
    "# Generate deliverables"
   ]
  },
  {
   "cell_type": "code",
   "execution_count": null,
   "id": "664e0679",
   "metadata": {},
   "outputs": [],
   "source": [
    "df_transactions[[\"customer_id\", \"transaction_id\", \"transaction_date\", \"amount\",  \"product_category\", \"payment_method\"]].to_csv(\"../output/part1/transactions_cleaned.csv\", index=False, sep=\",\")"
   ]
  }
 ],
 "metadata": {
  "kernelspec": {
   "display_name": "Python 3 (ipykernel)",
   "language": "python",
   "name": "python3"
  },
  "language_info": {
   "codemirror_mode": {
    "name": "ipython",
    "version": 3
   },
   "file_extension": ".py",
   "mimetype": "text/x-python",
   "name": "python",
   "nbconvert_exporter": "python",
   "pygments_lexer": "ipython3",
   "version": "3.8.5"
  },
  "toc": {
   "base_numbering": 1,
   "nav_menu": {},
   "number_sections": true,
   "sideBar": true,
   "skip_h1_title": false,
   "title_cell": "Table of Contents",
   "title_sidebar": "Contents",
   "toc_cell": false,
   "toc_position": {},
   "toc_section_display": true,
   "toc_window_display": true
  }
 },
 "nbformat": 4,
 "nbformat_minor": 5
}
